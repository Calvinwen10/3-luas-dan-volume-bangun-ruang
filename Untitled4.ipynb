{
  "nbformat": 4,
  "nbformat_minor": 0,
  "metadata": {
    "colab": {
      "provenance": [],
      "authorship_tag": "ABX9TyPau+Pnd/dBp8wSMtbcxPWX",
      "include_colab_link": true
    },
    "kernelspec": {
      "name": "python3",
      "display_name": "Python 3"
    },
    "language_info": {
      "name": "python"
    }
  },
  "cells": [
    {
      "cell_type": "markdown",
      "metadata": {
        "id": "view-in-github",
        "colab_type": "text"
      },
      "source": [
        "<a href=\"https://colab.research.google.com/github/Calvinwen10/3-luas-dan-volume-bangun-ruang/blob/main/Untitled4.ipynb\" target=\"_parent\"><img src=\"https://colab.research.google.com/assets/colab-badge.svg\" alt=\"Open In Colab\"/></a>"
      ]
    },
    {
      "cell_type": "code",
      "execution_count": null,
      "metadata": {
        "colab": {
          "base_uri": "https://localhost:8080/"
        },
        "id": "uKTyU3FzfL5o",
        "outputId": "bf51e146-6056-4f1f-a0ce-43ea127653ae"
      },
      "outputs": [
        {
          "output_type": "stream",
          "name": "stdout",
          "text": [
            "Collecting google-play-scraper\n",
            "  Downloading google_play_scraper-1.2.6-py3-none-any.whl (28 kB)\n",
            "Installing collected packages: google-play-scraper\n",
            "Successfully installed google-play-scraper-1.2.6\n"
          ]
        }
      ],
      "source": [
        "#Referensi: https://www.linkedin.com/pulse/how-scrape-google-play-reviews-4-simple-steps-using-python-kundi/\n",
        "\n",
        "!pip install google-play-scraper"
      ]
    },
    {
      "cell_type": "code",
      "source": [
        "from google_play_scraper import app\n",
        "\n",
        "import pandas as pd\n",
        "\n",
        "import numpy as np"
      ],
      "metadata": {
        "id": "27-KTiEhfXpt"
      },
      "execution_count": null,
      "outputs": []
    },
    {
      "cell_type": "code",
      "source": [
        "from google_play_scraper import Sort\n",
        "from google_play_scraper.constants.element import ElementSpecs\n",
        "from google_play_scraper.constants.regex import Regex\n",
        "from google_play_scraper.constants.request import Formats\n",
        "from google_play_scraper.utils.request import post\n",
        "\n",
        "import pandas as pd\n",
        "from datetime import datetime\n",
        "from tqdm import tqdm\n",
        "import time"
      ],
      "metadata": {
        "id": "QiWJ1hQpfoWo"
      },
      "execution_count": null,
      "outputs": []
    },
    {
      "cell_type": "code",
      "source": [
        "app_id = ''\n",
        "\n",
        "MAX_COUNT_EACH_FETCH = 199\n",
        "\n",
        "\n",
        "class _ContinuationToken:\n",
        "    __slots__ = (\n",
        "        \"token\",\n",
        "        \"lang\",\n",
        "        \"country\",\n",
        "        \"sort\",\n",
        "        \"count\",\n",
        "        \"filter_score_with\",\n",
        "        \"filter_device_with\",\n",
        "    )\n",
        "\n",
        "    def __init__(\n",
        "        self, token, lang, country, sort, count, filter_score_with, filter_device_with\n",
        "    ):\n",
        "        self.token = token\n",
        "        self.lang = lang\n",
        "        self.country = country\n",
        "        self.sort = sort\n",
        "        self.count = count\n",
        "        self.filter_score_with = filter_score_with\n",
        "        self.filter_device_with = filter_device_with\n",
        "\n",
        "\n",
        "def _fetch_review_items(\n",
        "    url: str,\n",
        "    app_id: str,\n",
        "    sort: int,\n",
        "    count: int,\n",
        "    filter_score_with: Optional[int],\n",
        "    filter_device_with: Optional[int],\n",
        "    pagination_token: Optional[str],\n",
        "):\n",
        "    dom = post(\n",
        "        url,\n",
        "        Formats.Reviews.build_body(\n",
        "            app_id,\n",
        "            sort,\n",
        "            count,\n",
        "            \"null\" if filter_score_with is None else filter_score_with,\n",
        "            \"null\" if filter_device_with is None else filter_device_with,\n",
        "            pagination_token,\n",
        "        ),\n",
        "        {\"content-type\": \"application/x-www-form-urlencoded\"},\n",
        "    )\n",
        "    match = json.loads(Regex.REVIEWS.findall(dom)[0])\n",
        "\n",
        "    return json.loads(match[0][2])[0], json.loads(match[0][2])[-2][-1]\n",
        "\n",
        "\n",
        "def reviews(\n",
        "    app_id: str,\n",
        "    lang: str = \"id\",\n",
        "    country: str = \"id\",\n",
        "    sort: Sort = Sort.MOST_RELEVANT,\n",
        "    count: int = 100,\n",
        "    filter_score_with: int = None,\n",
        "    filter_device_with: int = None,\n",
        "    continuation_token: _ContinuationToken = None,\n",
        ") -> Tuple[List[dict], _ContinuationToken]:\n",
        "    sort = sort.value\n",
        "\n",
        "    if continuation_token is not None:\n",
        "        token = continuation_token.token\n",
        "\n",
        "        if token is None:\n",
        "            return (\n",
        "                [],\n",
        "                continuation_token,\n",
        "            )\n",
        "\n",
        "        lang = continuation_token.lang\n",
        "        country = continuation_token.country\n",
        "        sort = continuation_token.sort\n",
        "        count = continuation_token.count\n",
        "        filter_score_with = continuation_token.filter_score_with\n",
        "        filter_device_with = continuation_token.filter_device_with\n",
        "    else:\n",
        "        token = None\n",
        "\n",
        "    url = Formats.Reviews.build(lang=lang, country=country)\n",
        "\n",
        "    _fetch_count = count\n",
        "\n",
        "    result = []\n",
        "\n",
        "    while True:\n",
        "        if _fetch_count == 0:\n",
        "            break\n",
        "\n",
        "        if _fetch_count > MAX_COUNT_EACH_FETCH:\n",
        "            _fetch_count = MAX_COUNT_EACH_FETCH\n",
        "\n",
        "        try:\n",
        "            review_items, token = _fetch_review_items(\n",
        "                url,\n",
        "                app_id,\n",
        "                sort,\n",
        "                _fetch_count,\n",
        "                filter_score_with,\n",
        "                filter_device_with,\n",
        "                token,\n",
        "            )\n",
        "        except (TypeError, IndexError):\n",
        "            #funnan MOD start\n",
        "            token = continuation_token.token\n",
        "            continue\n",
        "            #MOD end\n",
        "\n",
        "        for review in review_items:\n",
        "            result.append(\n",
        "                {\n",
        "                    k: spec.extract_content(review)\n",
        "                    for k, spec in ElementSpecs.Review.items()\n",
        "                }\n",
        "            )\n",
        "\n",
        "        _fetch_count = count - len(result)\n",
        "\n",
        "        if isinstance(token, list):\n",
        "            token = None\n",
        "            break\n",
        "\n",
        "    return (\n",
        "        result,\n",
        "        _ContinuationToken(\n",
        "            token, lang, country, sort, count, filter_score_with, filter_device_with\n",
        "        ),\n",
        "    )\n",
        "\n",
        "\n",
        "def reviews_all(app_id: str, sleep_milliseconds: int = 0, **kwargs) -> list:\n",
        "    kwargs.pop(\"count\", None)\n",
        "    kwargs.pop(\"continuation_token\", None)\n",
        "\n",
        "    continuation_token = None\n",
        "\n",
        "    result = []\n",
        "\n",
        "    while True:\n",
        "        _result, continuation_token = reviews(\n",
        "            app_id,\n",
        "            count=MAX_COUNT_EACH_FETCH,\n",
        "            continuation_token=continuation_token,\n",
        "            **kwargs\n",
        "        )\n",
        "\n",
        "        result += _result\n",
        "\n",
        "        if continuation_token.token is None:\n",
        "            break\n",
        "\n",
        "        if sleep_milliseconds:\n",
        "            sleep(sleep_milliseconds / 1000)\n",
        "\n",
        "    return result"
      ],
      "metadata": {
        "id": "_f89THLksx8a"
      },
      "execution_count": null,
      "outputs": []
    },
    {
      "cell_type": "code",
      "source": [
        "result = []\n",
        "continuation_token = None\n",
        "reviews_count = 5000\n",
        "\n",
        "with tqdm(total=reviews_count, position=0, leave=True) as pbar:\n",
        "    while len(result) < reviews_count:\n",
        "        new_result, continuation_token = reviews(\n",
        "            'coin.ajaib.co.id',\n",
        "            continuation_token=continuation_token,\n",
        "            lang='id',\n",
        "            country='id',\n",
        "            sort=Sort.NEWEST,\n",
        "            filter_score_with=None,\n",
        "            count=199\n",
        "        )\n",
        "        if not new_result:\n",
        "            break\n",
        "        result.extend(new_result)\n",
        "        pbar.update(len(new_result))"
      ],
      "metadata": {
        "colab": {
          "base_uri": "https://localhost:8080/"
        },
        "id": "zz_xfvcFwLmD",
        "outputId": "8d2dd4f0-6822-4e0c-aae6-a1100a6a74a3"
      },
      "execution_count": null,
      "outputs": [
        {
          "output_type": "stream",
          "name": "stderr",
          "text": [
            "5174it [00:05, 902.74it/s]\n"
          ]
        }
      ]
    },
    {
      "cell_type": "code",
      "source": [
        "df_busu = pd.DataFrame(np.array(result),columns=['review'])\n",
        "\n",
        "df_busu = df_busu.join(pd.DataFrame(df_busu.pop('review').tolist()))\n",
        "\n",
        "df_busu.head()"
      ],
      "metadata": {
        "colab": {
          "base_uri": "https://localhost:8080/",
          "height": 625
        },
        "id": "0L5Ons-xfrol",
        "outputId": "732f060f-c474-48d9-f781-bff8cb28f65c"
      },
      "execution_count": null,
      "outputs": [
        {
          "output_type": "execute_result",
          "data": {
            "text/plain": [
              "                               reviewId         userName  \\\n",
              "0  c7d38f72-ecdd-4b5f-9f84-483172920b4a    Regar Margana   \n",
              "1  6552cb20-ba98-411a-b599-44ae2c8175f4  Maehan Hotplate   \n",
              "2  0caa5424-3ab0-4109-a76d-31de827661b9            iqbal   \n",
              "3  d5e6ad00-5e1f-4963-9fba-e8ef3254d957         Akmal Ok   \n",
              "4  ac29576e-364a-42c2-8700-3a96936c9494    Hasyrat Aqdas   \n",
              "\n",
              "                                           userImage  \\\n",
              "0  https://play-lh.googleusercontent.com/a/ACg8oc...   \n",
              "1  https://play-lh.googleusercontent.com/a/ACg8oc...   \n",
              "2  https://play-lh.googleusercontent.com/a-/ALV-U...   \n",
              "3  https://play-lh.googleusercontent.com/a/ACg8oc...   \n",
              "4  https://play-lh.googleusercontent.com/a/ACg8oc...   \n",
              "\n",
              "                                             content  score  thumbsUpCount  \\\n",
              "0  Tidak tau cara masuk ganti nama N password N r...      5              0   \n",
              "1                                                 Ok      5              0   \n",
              "2  ah gk jelas pas mau halving btc malah masa pem...      3              0   \n",
              "3  Aplikasi Ga jelas, transaksi jual Reksadana me...      1              0   \n",
              "4  Woy buat la buat tarik nya pakai dana ribet ka...      1              0   \n",
              "\n",
              "  reviewCreatedVersion                  at replyContent repliedAt appVersion  \n",
              "0               2.46.0 2024-04-16 13:48:42         None       NaT     2.46.0  \n",
              "1               2.45.1 2024-04-16 13:27:49         None       NaT     2.45.1  \n",
              "2               2.46.0 2024-04-16 11:34:35         None       NaT     2.46.0  \n",
              "3                 None 2024-04-16 08:54:02         None       NaT       None  \n",
              "4                 None 2024-04-16 03:00:06         None       NaT       None  "
            ],
            "text/html": [
              "\n",
              "  <div id=\"df-cd83bc4d-84d1-4d2f-bcbb-e5bfd5a127b8\" class=\"colab-df-container\">\n",
              "    <div>\n",
              "<style scoped>\n",
              "    .dataframe tbody tr th:only-of-type {\n",
              "        vertical-align: middle;\n",
              "    }\n",
              "\n",
              "    .dataframe tbody tr th {\n",
              "        vertical-align: top;\n",
              "    }\n",
              "\n",
              "    .dataframe thead th {\n",
              "        text-align: right;\n",
              "    }\n",
              "</style>\n",
              "<table border=\"1\" class=\"dataframe\">\n",
              "  <thead>\n",
              "    <tr style=\"text-align: right;\">\n",
              "      <th></th>\n",
              "      <th>reviewId</th>\n",
              "      <th>userName</th>\n",
              "      <th>userImage</th>\n",
              "      <th>content</th>\n",
              "      <th>score</th>\n",
              "      <th>thumbsUpCount</th>\n",
              "      <th>reviewCreatedVersion</th>\n",
              "      <th>at</th>\n",
              "      <th>replyContent</th>\n",
              "      <th>repliedAt</th>\n",
              "      <th>appVersion</th>\n",
              "    </tr>\n",
              "  </thead>\n",
              "  <tbody>\n",
              "    <tr>\n",
              "      <th>0</th>\n",
              "      <td>c7d38f72-ecdd-4b5f-9f84-483172920b4a</td>\n",
              "      <td>Regar Margana</td>\n",
              "      <td>https://play-lh.googleusercontent.com/a/ACg8oc...</td>\n",
              "      <td>Tidak tau cara masuk ganti nama N password N r...</td>\n",
              "      <td>5</td>\n",
              "      <td>0</td>\n",
              "      <td>2.46.0</td>\n",
              "      <td>2024-04-16 13:48:42</td>\n",
              "      <td>None</td>\n",
              "      <td>NaT</td>\n",
              "      <td>2.46.0</td>\n",
              "    </tr>\n",
              "    <tr>\n",
              "      <th>1</th>\n",
              "      <td>6552cb20-ba98-411a-b599-44ae2c8175f4</td>\n",
              "      <td>Maehan Hotplate</td>\n",
              "      <td>https://play-lh.googleusercontent.com/a/ACg8oc...</td>\n",
              "      <td>Ok</td>\n",
              "      <td>5</td>\n",
              "      <td>0</td>\n",
              "      <td>2.45.1</td>\n",
              "      <td>2024-04-16 13:27:49</td>\n",
              "      <td>None</td>\n",
              "      <td>NaT</td>\n",
              "      <td>2.45.1</td>\n",
              "    </tr>\n",
              "    <tr>\n",
              "      <th>2</th>\n",
              "      <td>0caa5424-3ab0-4109-a76d-31de827661b9</td>\n",
              "      <td>iqbal</td>\n",
              "      <td>https://play-lh.googleusercontent.com/a-/ALV-U...</td>\n",
              "      <td>ah gk jelas pas mau halving btc malah masa pem...</td>\n",
              "      <td>3</td>\n",
              "      <td>0</td>\n",
              "      <td>2.46.0</td>\n",
              "      <td>2024-04-16 11:34:35</td>\n",
              "      <td>None</td>\n",
              "      <td>NaT</td>\n",
              "      <td>2.46.0</td>\n",
              "    </tr>\n",
              "    <tr>\n",
              "      <th>3</th>\n",
              "      <td>d5e6ad00-5e1f-4963-9fba-e8ef3254d957</td>\n",
              "      <td>Akmal Ok</td>\n",
              "      <td>https://play-lh.googleusercontent.com/a/ACg8oc...</td>\n",
              "      <td>Aplikasi Ga jelas, transaksi jual Reksadana me...</td>\n",
              "      <td>1</td>\n",
              "      <td>0</td>\n",
              "      <td>None</td>\n",
              "      <td>2024-04-16 08:54:02</td>\n",
              "      <td>None</td>\n",
              "      <td>NaT</td>\n",
              "      <td>None</td>\n",
              "    </tr>\n",
              "    <tr>\n",
              "      <th>4</th>\n",
              "      <td>ac29576e-364a-42c2-8700-3a96936c9494</td>\n",
              "      <td>Hasyrat Aqdas</td>\n",
              "      <td>https://play-lh.googleusercontent.com/a/ACg8oc...</td>\n",
              "      <td>Woy buat la buat tarik nya pakai dana ribet ka...</td>\n",
              "      <td>1</td>\n",
              "      <td>0</td>\n",
              "      <td>None</td>\n",
              "      <td>2024-04-16 03:00:06</td>\n",
              "      <td>None</td>\n",
              "      <td>NaT</td>\n",
              "      <td>None</td>\n",
              "    </tr>\n",
              "  </tbody>\n",
              "</table>\n",
              "</div>\n",
              "    <div class=\"colab-df-buttons\">\n",
              "\n",
              "  <div class=\"colab-df-container\">\n",
              "    <button class=\"colab-df-convert\" onclick=\"convertToInteractive('df-cd83bc4d-84d1-4d2f-bcbb-e5bfd5a127b8')\"\n",
              "            title=\"Convert this dataframe to an interactive table.\"\n",
              "            style=\"display:none;\">\n",
              "\n",
              "  <svg xmlns=\"http://www.w3.org/2000/svg\" height=\"24px\" viewBox=\"0 -960 960 960\">\n",
              "    <path d=\"M120-120v-720h720v720H120Zm60-500h600v-160H180v160Zm220 220h160v-160H400v160Zm0 220h160v-160H400v160ZM180-400h160v-160H180v160Zm440 0h160v-160H620v160ZM180-180h160v-160H180v160Zm440 0h160v-160H620v160Z\"/>\n",
              "  </svg>\n",
              "    </button>\n",
              "\n",
              "  <style>\n",
              "    .colab-df-container {\n",
              "      display:flex;\n",
              "      gap: 12px;\n",
              "    }\n",
              "\n",
              "    .colab-df-convert {\n",
              "      background-color: #E8F0FE;\n",
              "      border: none;\n",
              "      border-radius: 50%;\n",
              "      cursor: pointer;\n",
              "      display: none;\n",
              "      fill: #1967D2;\n",
              "      height: 32px;\n",
              "      padding: 0 0 0 0;\n",
              "      width: 32px;\n",
              "    }\n",
              "\n",
              "    .colab-df-convert:hover {\n",
              "      background-color: #E2EBFA;\n",
              "      box-shadow: 0px 1px 2px rgba(60, 64, 67, 0.3), 0px 1px 3px 1px rgba(60, 64, 67, 0.15);\n",
              "      fill: #174EA6;\n",
              "    }\n",
              "\n",
              "    .colab-df-buttons div {\n",
              "      margin-bottom: 4px;\n",
              "    }\n",
              "\n",
              "    [theme=dark] .colab-df-convert {\n",
              "      background-color: #3B4455;\n",
              "      fill: #D2E3FC;\n",
              "    }\n",
              "\n",
              "    [theme=dark] .colab-df-convert:hover {\n",
              "      background-color: #434B5C;\n",
              "      box-shadow: 0px 1px 3px 1px rgba(0, 0, 0, 0.15);\n",
              "      filter: drop-shadow(0px 1px 2px rgba(0, 0, 0, 0.3));\n",
              "      fill: #FFFFFF;\n",
              "    }\n",
              "  </style>\n",
              "\n",
              "    <script>\n",
              "      const buttonEl =\n",
              "        document.querySelector('#df-cd83bc4d-84d1-4d2f-bcbb-e5bfd5a127b8 button.colab-df-convert');\n",
              "      buttonEl.style.display =\n",
              "        google.colab.kernel.accessAllowed ? 'block' : 'none';\n",
              "\n",
              "      async function convertToInteractive(key) {\n",
              "        const element = document.querySelector('#df-cd83bc4d-84d1-4d2f-bcbb-e5bfd5a127b8');\n",
              "        const dataTable =\n",
              "          await google.colab.kernel.invokeFunction('convertToInteractive',\n",
              "                                                    [key], {});\n",
              "        if (!dataTable) return;\n",
              "\n",
              "        const docLinkHtml = 'Like what you see? Visit the ' +\n",
              "          '<a target=\"_blank\" href=https://colab.research.google.com/notebooks/data_table.ipynb>data table notebook</a>'\n",
              "          + ' to learn more about interactive tables.';\n",
              "        element.innerHTML = '';\n",
              "        dataTable['output_type'] = 'display_data';\n",
              "        await google.colab.output.renderOutput(dataTable, element);\n",
              "        const docLink = document.createElement('div');\n",
              "        docLink.innerHTML = docLinkHtml;\n",
              "        element.appendChild(docLink);\n",
              "      }\n",
              "    </script>\n",
              "  </div>\n",
              "\n",
              "\n",
              "<div id=\"df-6298ccbf-b677-4e6d-a523-c02057212e71\">\n",
              "  <button class=\"colab-df-quickchart\" onclick=\"quickchart('df-6298ccbf-b677-4e6d-a523-c02057212e71')\"\n",
              "            title=\"Suggest charts\"\n",
              "            style=\"display:none;\">\n",
              "\n",
              "<svg xmlns=\"http://www.w3.org/2000/svg\" height=\"24px\"viewBox=\"0 0 24 24\"\n",
              "     width=\"24px\">\n",
              "    <g>\n",
              "        <path d=\"M19 3H5c-1.1 0-2 .9-2 2v14c0 1.1.9 2 2 2h14c1.1 0 2-.9 2-2V5c0-1.1-.9-2-2-2zM9 17H7v-7h2v7zm4 0h-2V7h2v10zm4 0h-2v-4h2v4z\"/>\n",
              "    </g>\n",
              "</svg>\n",
              "  </button>\n",
              "\n",
              "<style>\n",
              "  .colab-df-quickchart {\n",
              "      --bg-color: #E8F0FE;\n",
              "      --fill-color: #1967D2;\n",
              "      --hover-bg-color: #E2EBFA;\n",
              "      --hover-fill-color: #174EA6;\n",
              "      --disabled-fill-color: #AAA;\n",
              "      --disabled-bg-color: #DDD;\n",
              "  }\n",
              "\n",
              "  [theme=dark] .colab-df-quickchart {\n",
              "      --bg-color: #3B4455;\n",
              "      --fill-color: #D2E3FC;\n",
              "      --hover-bg-color: #434B5C;\n",
              "      --hover-fill-color: #FFFFFF;\n",
              "      --disabled-bg-color: #3B4455;\n",
              "      --disabled-fill-color: #666;\n",
              "  }\n",
              "\n",
              "  .colab-df-quickchart {\n",
              "    background-color: var(--bg-color);\n",
              "    border: none;\n",
              "    border-radius: 50%;\n",
              "    cursor: pointer;\n",
              "    display: none;\n",
              "    fill: var(--fill-color);\n",
              "    height: 32px;\n",
              "    padding: 0;\n",
              "    width: 32px;\n",
              "  }\n",
              "\n",
              "  .colab-df-quickchart:hover {\n",
              "    background-color: var(--hover-bg-color);\n",
              "    box-shadow: 0 1px 2px rgba(60, 64, 67, 0.3), 0 1px 3px 1px rgba(60, 64, 67, 0.15);\n",
              "    fill: var(--button-hover-fill-color);\n",
              "  }\n",
              "\n",
              "  .colab-df-quickchart-complete:disabled,\n",
              "  .colab-df-quickchart-complete:disabled:hover {\n",
              "    background-color: var(--disabled-bg-color);\n",
              "    fill: var(--disabled-fill-color);\n",
              "    box-shadow: none;\n",
              "  }\n",
              "\n",
              "  .colab-df-spinner {\n",
              "    border: 2px solid var(--fill-color);\n",
              "    border-color: transparent;\n",
              "    border-bottom-color: var(--fill-color);\n",
              "    animation:\n",
              "      spin 1s steps(1) infinite;\n",
              "  }\n",
              "\n",
              "  @keyframes spin {\n",
              "    0% {\n",
              "      border-color: transparent;\n",
              "      border-bottom-color: var(--fill-color);\n",
              "      border-left-color: var(--fill-color);\n",
              "    }\n",
              "    20% {\n",
              "      border-color: transparent;\n",
              "      border-left-color: var(--fill-color);\n",
              "      border-top-color: var(--fill-color);\n",
              "    }\n",
              "    30% {\n",
              "      border-color: transparent;\n",
              "      border-left-color: var(--fill-color);\n",
              "      border-top-color: var(--fill-color);\n",
              "      border-right-color: var(--fill-color);\n",
              "    }\n",
              "    40% {\n",
              "      border-color: transparent;\n",
              "      border-right-color: var(--fill-color);\n",
              "      border-top-color: var(--fill-color);\n",
              "    }\n",
              "    60% {\n",
              "      border-color: transparent;\n",
              "      border-right-color: var(--fill-color);\n",
              "    }\n",
              "    80% {\n",
              "      border-color: transparent;\n",
              "      border-right-color: var(--fill-color);\n",
              "      border-bottom-color: var(--fill-color);\n",
              "    }\n",
              "    90% {\n",
              "      border-color: transparent;\n",
              "      border-bottom-color: var(--fill-color);\n",
              "    }\n",
              "  }\n",
              "</style>\n",
              "\n",
              "  <script>\n",
              "    async function quickchart(key) {\n",
              "      const quickchartButtonEl =\n",
              "        document.querySelector('#' + key + ' button');\n",
              "      quickchartButtonEl.disabled = true;  // To prevent multiple clicks.\n",
              "      quickchartButtonEl.classList.add('colab-df-spinner');\n",
              "      try {\n",
              "        const charts = await google.colab.kernel.invokeFunction(\n",
              "            'suggestCharts', [key], {});\n",
              "      } catch (error) {\n",
              "        console.error('Error during call to suggestCharts:', error);\n",
              "      }\n",
              "      quickchartButtonEl.classList.remove('colab-df-spinner');\n",
              "      quickchartButtonEl.classList.add('colab-df-quickchart-complete');\n",
              "    }\n",
              "    (() => {\n",
              "      let quickchartButtonEl =\n",
              "        document.querySelector('#df-6298ccbf-b677-4e6d-a523-c02057212e71 button');\n",
              "      quickchartButtonEl.style.display =\n",
              "        google.colab.kernel.accessAllowed ? 'block' : 'none';\n",
              "    })();\n",
              "  </script>\n",
              "</div>\n",
              "    </div>\n",
              "  </div>\n"
            ],
            "application/vnd.google.colaboratory.intrinsic+json": {
              "type": "dataframe",
              "variable_name": "df_busu",
              "summary": "{\n  \"name\": \"df_busu\",\n  \"rows\": 5174,\n  \"fields\": [\n    {\n      \"column\": \"reviewId\",\n      \"properties\": {\n        \"dtype\": \"string\",\n        \"num_unique_values\": 5174,\n        \"samples\": [\n          \"c22434d3-3d83-470c-a9d7-728224db5299\",\n          \"84eabf7d-5fd4-451c-a11c-e018d28c22b4\",\n          \"d31fc19a-333e-4fd0-92a7-e3e0a2ac4ace\"\n        ],\n        \"semantic_type\": \"\",\n        \"description\": \"\"\n      }\n    },\n    {\n      \"column\": \"userName\",\n      \"properties\": {\n        \"dtype\": \"string\",\n        \"num_unique_values\": 5156,\n        \"samples\": [\n          \"millky latte\",\n          \"lukimah lukimah\",\n          \"Ahmadsahrul Munawar\"\n        ],\n        \"semantic_type\": \"\",\n        \"description\": \"\"\n      }\n    },\n    {\n      \"column\": \"userImage\",\n      \"properties\": {\n        \"dtype\": \"string\",\n        \"num_unique_values\": 5171,\n        \"samples\": [\n          \"https://play-lh.googleusercontent.com/a-/ALV-UjUoaKoi3x5FXJypsSNEfmWjZZYpQ8NOwIkQU25kAHqHgOmqx5U7\",\n          \"https://play-lh.googleusercontent.com/a/ACg8ocJ11omIm76ldvgAKmkJNXYZt6EUyhp0VMFPYMj_f_tpwrrBWA=mo\",\n          \"https://play-lh.googleusercontent.com/a-/ALV-UjXwb8RBYoBpEFqkVPl3itqEiggvM1ssrJdU-V9-5MkLbKiXVQA\"\n        ],\n        \"semantic_type\": \"\",\n        \"description\": \"\"\n      }\n    },\n    {\n      \"column\": \"content\",\n      \"properties\": {\n        \"dtype\": \"string\",\n        \"num_unique_values\": 4772,\n        \"samples\": [\n          \"Aplikasi jelek, udah set jual. Gak bisa ke jual, udah turunin angka jual. Udah melompat tinggi masih gak ke jual, aplikasi scam\",\n          \"easy to use simple\",\n          \"Wawww aplikasi yang bagus cocok untuk mempermudah investasi\"\n        ],\n        \"semantic_type\": \"\",\n        \"description\": \"\"\n      }\n    },\n    {\n      \"column\": \"score\",\n      \"properties\": {\n        \"dtype\": \"number\",\n        \"std\": 1,\n        \"min\": 1,\n        \"max\": 5,\n        \"num_unique_values\": 5,\n        \"samples\": [\n          3,\n          2,\n          1\n        ],\n        \"semantic_type\": \"\",\n        \"description\": \"\"\n      }\n    },\n    {\n      \"column\": \"thumbsUpCount\",\n      \"properties\": {\n        \"dtype\": \"number\",\n        \"std\": 6,\n        \"min\": 0,\n        \"max\": 244,\n        \"num_unique_values\": 44,\n        \"samples\": [\n          18,\n          46,\n          101\n        ],\n        \"semantic_type\": \"\",\n        \"description\": \"\"\n      }\n    },\n    {\n      \"column\": \"reviewCreatedVersion\",\n      \"properties\": {\n        \"dtype\": \"category\",\n        \"num_unique_values\": 68,\n        \"samples\": [\n          \"2.17.0\",\n          \"2.36.5\",\n          \"2.40.0\"\n        ],\n        \"semantic_type\": \"\",\n        \"description\": \"\"\n      }\n    },\n    {\n      \"column\": \"at\",\n      \"properties\": {\n        \"dtype\": \"date\",\n        \"min\": \"2022-08-17 00:12:03\",\n        \"max\": \"2024-04-16 13:48:42\",\n        \"num_unique_values\": 5161,\n        \"samples\": [\n          \"2023-11-22 05:32:26\",\n          \"2023-12-02 09:39:43\",\n          \"2023-01-11 04:06:56\"\n        ],\n        \"semantic_type\": \"\",\n        \"description\": \"\"\n      }\n    },\n    {\n      \"column\": \"replyContent\",\n      \"properties\": {\n        \"dtype\": \"category\",\n        \"num_unique_values\": 162,\n        \"samples\": [\n          \"Hi Kak Heri Kurniawan, terima kasih atas saran dan kritikan yang diberikan. Kami akan sampaikan ke tim terkait sehingga kedepannya kami dapat menjadi lebih baik lagi. Apabila ada kendala yang lain, mohon untuk tidak ragu menghubungi kami kembali. ~RG\",\n          \"Hi Kak ZILDJIAN, mohon maaf atas ketidaknyamanannya ya. Terkait kendala Kakak diperlukan pengecekan lebih lanjut silahkan hubungi kami melalui email support.saham@ajaib.co.id atau live chat pada aplikasi ya. ~RG\",\n          \"Hi Kak, mohon maaf atas ketidaknyamanannya ya. Kami informasikan bahwa saat ini Ajaib Kripto hadir demi meningkatkan kenyamanan dan akses ke berbagai fitur lengkap dan lebih banyak lagi yang akan datang. Jika ingin dibantu atau ditanyakan lebih lanjut silakan menghubungi kami melalui email atau Live Chat ya Kak. Terima kasih. ~LT\"\n        ],\n        \"semantic_type\": \"\",\n        \"description\": \"\"\n      }\n    },\n    {\n      \"column\": \"repliedAt\",\n      \"properties\": {\n        \"dtype\": \"date\",\n        \"min\": \"2022-08-24 04:30:34\",\n        \"max\": \"2024-01-24 15:49:56\",\n        \"num_unique_values\": 403,\n        \"samples\": [\n          \"2023-06-23 03:00:48\",\n          \"2022-11-24 02:16:24\",\n          \"2022-11-23 09:42:18\"\n        ],\n        \"semantic_type\": \"\",\n        \"description\": \"\"\n      }\n    },\n    {\n      \"column\": \"appVersion\",\n      \"properties\": {\n        \"dtype\": \"category\",\n        \"num_unique_values\": 68,\n        \"samples\": [\n          \"2.17.0\",\n          \"2.36.5\",\n          \"2.40.0\"\n        ],\n        \"semantic_type\": \"\",\n        \"description\": \"\"\n      }\n    }\n  ]\n}"
            }
          },
          "metadata": {},
          "execution_count": 109
        }
      ]
    },
    {
      "cell_type": "code",
      "source": [
        "len(df_busu.index) #count the number of data we got"
      ],
      "metadata": {
        "colab": {
          "base_uri": "https://localhost:8080/"
        },
        "id": "ReykR9tefu0P",
        "outputId": "110e376c-0882-4c85-ae06-fd489c8266a1"
      },
      "execution_count": null,
      "outputs": [
        {
          "output_type": "execute_result",
          "data": {
            "text/plain": [
              "5174"
            ]
          },
          "metadata": {},
          "execution_count": 110
        }
      ]
    },
    {
      "cell_type": "code",
      "source": [
        "df_busu[['userName', 'score','at', 'content']].head()  #preview userName, rating, date-time, and reviews only"
      ],
      "metadata": {
        "colab": {
          "base_uri": "https://localhost:8080/",
          "height": 206
        },
        "id": "gTpHo9F_xuAE",
        "outputId": "8061c7f9-9307-4502-d3a0-ed7b698480ad"
      },
      "execution_count": null,
      "outputs": [
        {
          "output_type": "execute_result",
          "data": {
            "text/plain": [
              "          userName  score                  at  \\\n",
              "0    Regar Margana      5 2024-04-16 13:48:42   \n",
              "1  Maehan Hotplate      5 2024-04-16 13:27:49   \n",
              "2            iqbal      3 2024-04-16 11:34:35   \n",
              "3         Akmal Ok      1 2024-04-16 08:54:02   \n",
              "4    Hasyrat Aqdas      1 2024-04-16 03:00:06   \n",
              "\n",
              "                                             content  \n",
              "0  Tidak tau cara masuk ganti nama N password N r...  \n",
              "1                                                 Ok  \n",
              "2  ah gk jelas pas mau halving btc malah masa pem...  \n",
              "3  Aplikasi Ga jelas, transaksi jual Reksadana me...  \n",
              "4  Woy buat la buat tarik nya pakai dana ribet ka...  "
            ],
            "text/html": [
              "\n",
              "  <div id=\"df-3a43b1ec-879f-44e4-b5d3-9a2fbaf2c88c\" class=\"colab-df-container\">\n",
              "    <div>\n",
              "<style scoped>\n",
              "    .dataframe tbody tr th:only-of-type {\n",
              "        vertical-align: middle;\n",
              "    }\n",
              "\n",
              "    .dataframe tbody tr th {\n",
              "        vertical-align: top;\n",
              "    }\n",
              "\n",
              "    .dataframe thead th {\n",
              "        text-align: right;\n",
              "    }\n",
              "</style>\n",
              "<table border=\"1\" class=\"dataframe\">\n",
              "  <thead>\n",
              "    <tr style=\"text-align: right;\">\n",
              "      <th></th>\n",
              "      <th>userName</th>\n",
              "      <th>score</th>\n",
              "      <th>at</th>\n",
              "      <th>content</th>\n",
              "    </tr>\n",
              "  </thead>\n",
              "  <tbody>\n",
              "    <tr>\n",
              "      <th>0</th>\n",
              "      <td>Regar Margana</td>\n",
              "      <td>5</td>\n",
              "      <td>2024-04-16 13:48:42</td>\n",
              "      <td>Tidak tau cara masuk ganti nama N password N r...</td>\n",
              "    </tr>\n",
              "    <tr>\n",
              "      <th>1</th>\n",
              "      <td>Maehan Hotplate</td>\n",
              "      <td>5</td>\n",
              "      <td>2024-04-16 13:27:49</td>\n",
              "      <td>Ok</td>\n",
              "    </tr>\n",
              "    <tr>\n",
              "      <th>2</th>\n",
              "      <td>iqbal</td>\n",
              "      <td>3</td>\n",
              "      <td>2024-04-16 11:34:35</td>\n",
              "      <td>ah gk jelas pas mau halving btc malah masa pem...</td>\n",
              "    </tr>\n",
              "    <tr>\n",
              "      <th>3</th>\n",
              "      <td>Akmal Ok</td>\n",
              "      <td>1</td>\n",
              "      <td>2024-04-16 08:54:02</td>\n",
              "      <td>Aplikasi Ga jelas, transaksi jual Reksadana me...</td>\n",
              "    </tr>\n",
              "    <tr>\n",
              "      <th>4</th>\n",
              "      <td>Hasyrat Aqdas</td>\n",
              "      <td>1</td>\n",
              "      <td>2024-04-16 03:00:06</td>\n",
              "      <td>Woy buat la buat tarik nya pakai dana ribet ka...</td>\n",
              "    </tr>\n",
              "  </tbody>\n",
              "</table>\n",
              "</div>\n",
              "    <div class=\"colab-df-buttons\">\n",
              "\n",
              "  <div class=\"colab-df-container\">\n",
              "    <button class=\"colab-df-convert\" onclick=\"convertToInteractive('df-3a43b1ec-879f-44e4-b5d3-9a2fbaf2c88c')\"\n",
              "            title=\"Convert this dataframe to an interactive table.\"\n",
              "            style=\"display:none;\">\n",
              "\n",
              "  <svg xmlns=\"http://www.w3.org/2000/svg\" height=\"24px\" viewBox=\"0 -960 960 960\">\n",
              "    <path d=\"M120-120v-720h720v720H120Zm60-500h600v-160H180v160Zm220 220h160v-160H400v160Zm0 220h160v-160H400v160ZM180-400h160v-160H180v160Zm440 0h160v-160H620v160ZM180-180h160v-160H180v160Zm440 0h160v-160H620v160Z\"/>\n",
              "  </svg>\n",
              "    </button>\n",
              "\n",
              "  <style>\n",
              "    .colab-df-container {\n",
              "      display:flex;\n",
              "      gap: 12px;\n",
              "    }\n",
              "\n",
              "    .colab-df-convert {\n",
              "      background-color: #E8F0FE;\n",
              "      border: none;\n",
              "      border-radius: 50%;\n",
              "      cursor: pointer;\n",
              "      display: none;\n",
              "      fill: #1967D2;\n",
              "      height: 32px;\n",
              "      padding: 0 0 0 0;\n",
              "      width: 32px;\n",
              "    }\n",
              "\n",
              "    .colab-df-convert:hover {\n",
              "      background-color: #E2EBFA;\n",
              "      box-shadow: 0px 1px 2px rgba(60, 64, 67, 0.3), 0px 1px 3px 1px rgba(60, 64, 67, 0.15);\n",
              "      fill: #174EA6;\n",
              "    }\n",
              "\n",
              "    .colab-df-buttons div {\n",
              "      margin-bottom: 4px;\n",
              "    }\n",
              "\n",
              "    [theme=dark] .colab-df-convert {\n",
              "      background-color: #3B4455;\n",
              "      fill: #D2E3FC;\n",
              "    }\n",
              "\n",
              "    [theme=dark] .colab-df-convert:hover {\n",
              "      background-color: #434B5C;\n",
              "      box-shadow: 0px 1px 3px 1px rgba(0, 0, 0, 0.15);\n",
              "      filter: drop-shadow(0px 1px 2px rgba(0, 0, 0, 0.3));\n",
              "      fill: #FFFFFF;\n",
              "    }\n",
              "  </style>\n",
              "\n",
              "    <script>\n",
              "      const buttonEl =\n",
              "        document.querySelector('#df-3a43b1ec-879f-44e4-b5d3-9a2fbaf2c88c button.colab-df-convert');\n",
              "      buttonEl.style.display =\n",
              "        google.colab.kernel.accessAllowed ? 'block' : 'none';\n",
              "\n",
              "      async function convertToInteractive(key) {\n",
              "        const element = document.querySelector('#df-3a43b1ec-879f-44e4-b5d3-9a2fbaf2c88c');\n",
              "        const dataTable =\n",
              "          await google.colab.kernel.invokeFunction('convertToInteractive',\n",
              "                                                    [key], {});\n",
              "        if (!dataTable) return;\n",
              "\n",
              "        const docLinkHtml = 'Like what you see? Visit the ' +\n",
              "          '<a target=\"_blank\" href=https://colab.research.google.com/notebooks/data_table.ipynb>data table notebook</a>'\n",
              "          + ' to learn more about interactive tables.';\n",
              "        element.innerHTML = '';\n",
              "        dataTable['output_type'] = 'display_data';\n",
              "        await google.colab.output.renderOutput(dataTable, element);\n",
              "        const docLink = document.createElement('div');\n",
              "        docLink.innerHTML = docLinkHtml;\n",
              "        element.appendChild(docLink);\n",
              "      }\n",
              "    </script>\n",
              "  </div>\n",
              "\n",
              "\n",
              "<div id=\"df-56c865f8-1bed-4bbb-b343-0c27e1425801\">\n",
              "  <button class=\"colab-df-quickchart\" onclick=\"quickchart('df-56c865f8-1bed-4bbb-b343-0c27e1425801')\"\n",
              "            title=\"Suggest charts\"\n",
              "            style=\"display:none;\">\n",
              "\n",
              "<svg xmlns=\"http://www.w3.org/2000/svg\" height=\"24px\"viewBox=\"0 0 24 24\"\n",
              "     width=\"24px\">\n",
              "    <g>\n",
              "        <path d=\"M19 3H5c-1.1 0-2 .9-2 2v14c0 1.1.9 2 2 2h14c1.1 0 2-.9 2-2V5c0-1.1-.9-2-2-2zM9 17H7v-7h2v7zm4 0h-2V7h2v10zm4 0h-2v-4h2v4z\"/>\n",
              "    </g>\n",
              "</svg>\n",
              "  </button>\n",
              "\n",
              "<style>\n",
              "  .colab-df-quickchart {\n",
              "      --bg-color: #E8F0FE;\n",
              "      --fill-color: #1967D2;\n",
              "      --hover-bg-color: #E2EBFA;\n",
              "      --hover-fill-color: #174EA6;\n",
              "      --disabled-fill-color: #AAA;\n",
              "      --disabled-bg-color: #DDD;\n",
              "  }\n",
              "\n",
              "  [theme=dark] .colab-df-quickchart {\n",
              "      --bg-color: #3B4455;\n",
              "      --fill-color: #D2E3FC;\n",
              "      --hover-bg-color: #434B5C;\n",
              "      --hover-fill-color: #FFFFFF;\n",
              "      --disabled-bg-color: #3B4455;\n",
              "      --disabled-fill-color: #666;\n",
              "  }\n",
              "\n",
              "  .colab-df-quickchart {\n",
              "    background-color: var(--bg-color);\n",
              "    border: none;\n",
              "    border-radius: 50%;\n",
              "    cursor: pointer;\n",
              "    display: none;\n",
              "    fill: var(--fill-color);\n",
              "    height: 32px;\n",
              "    padding: 0;\n",
              "    width: 32px;\n",
              "  }\n",
              "\n",
              "  .colab-df-quickchart:hover {\n",
              "    background-color: var(--hover-bg-color);\n",
              "    box-shadow: 0 1px 2px rgba(60, 64, 67, 0.3), 0 1px 3px 1px rgba(60, 64, 67, 0.15);\n",
              "    fill: var(--button-hover-fill-color);\n",
              "  }\n",
              "\n",
              "  .colab-df-quickchart-complete:disabled,\n",
              "  .colab-df-quickchart-complete:disabled:hover {\n",
              "    background-color: var(--disabled-bg-color);\n",
              "    fill: var(--disabled-fill-color);\n",
              "    box-shadow: none;\n",
              "  }\n",
              "\n",
              "  .colab-df-spinner {\n",
              "    border: 2px solid var(--fill-color);\n",
              "    border-color: transparent;\n",
              "    border-bottom-color: var(--fill-color);\n",
              "    animation:\n",
              "      spin 1s steps(1) infinite;\n",
              "  }\n",
              "\n",
              "  @keyframes spin {\n",
              "    0% {\n",
              "      border-color: transparent;\n",
              "      border-bottom-color: var(--fill-color);\n",
              "      border-left-color: var(--fill-color);\n",
              "    }\n",
              "    20% {\n",
              "      border-color: transparent;\n",
              "      border-left-color: var(--fill-color);\n",
              "      border-top-color: var(--fill-color);\n",
              "    }\n",
              "    30% {\n",
              "      border-color: transparent;\n",
              "      border-left-color: var(--fill-color);\n",
              "      border-top-color: var(--fill-color);\n",
              "      border-right-color: var(--fill-color);\n",
              "    }\n",
              "    40% {\n",
              "      border-color: transparent;\n",
              "      border-right-color: var(--fill-color);\n",
              "      border-top-color: var(--fill-color);\n",
              "    }\n",
              "    60% {\n",
              "      border-color: transparent;\n",
              "      border-right-color: var(--fill-color);\n",
              "    }\n",
              "    80% {\n",
              "      border-color: transparent;\n",
              "      border-right-color: var(--fill-color);\n",
              "      border-bottom-color: var(--fill-color);\n",
              "    }\n",
              "    90% {\n",
              "      border-color: transparent;\n",
              "      border-bottom-color: var(--fill-color);\n",
              "    }\n",
              "  }\n",
              "</style>\n",
              "\n",
              "  <script>\n",
              "    async function quickchart(key) {\n",
              "      const quickchartButtonEl =\n",
              "        document.querySelector('#' + key + ' button');\n",
              "      quickchartButtonEl.disabled = true;  // To prevent multiple clicks.\n",
              "      quickchartButtonEl.classList.add('colab-df-spinner');\n",
              "      try {\n",
              "        const charts = await google.colab.kernel.invokeFunction(\n",
              "            'suggestCharts', [key], {});\n",
              "      } catch (error) {\n",
              "        console.error('Error during call to suggestCharts:', error);\n",
              "      }\n",
              "      quickchartButtonEl.classList.remove('colab-df-spinner');\n",
              "      quickchartButtonEl.classList.add('colab-df-quickchart-complete');\n",
              "    }\n",
              "    (() => {\n",
              "      let quickchartButtonEl =\n",
              "        document.querySelector('#df-56c865f8-1bed-4bbb-b343-0c27e1425801 button');\n",
              "      quickchartButtonEl.style.display =\n",
              "        google.colab.kernel.accessAllowed ? 'block' : 'none';\n",
              "    })();\n",
              "  </script>\n",
              "</div>\n",
              "    </div>\n",
              "  </div>\n"
            ],
            "application/vnd.google.colaboratory.intrinsic+json": {
              "type": "dataframe",
              "summary": "{\n  \"name\": \"df_busu[['userName', 'score','at', 'content']]\",\n  \"rows\": 5,\n  \"fields\": [\n    {\n      \"column\": \"userName\",\n      \"properties\": {\n        \"dtype\": \"string\",\n        \"num_unique_values\": 5,\n        \"samples\": [\n          \"Maehan Hotplate\",\n          \"Hasyrat Aqdas\",\n          \"iqbal\"\n        ],\n        \"semantic_type\": \"\",\n        \"description\": \"\"\n      }\n    },\n    {\n      \"column\": \"score\",\n      \"properties\": {\n        \"dtype\": \"number\",\n        \"std\": 2,\n        \"min\": 1,\n        \"max\": 5,\n        \"num_unique_values\": 3,\n        \"samples\": [\n          5,\n          3,\n          1\n        ],\n        \"semantic_type\": \"\",\n        \"description\": \"\"\n      }\n    },\n    {\n      \"column\": \"at\",\n      \"properties\": {\n        \"dtype\": \"date\",\n        \"min\": \"2024-04-16 03:00:06\",\n        \"max\": \"2024-04-16 13:48:42\",\n        \"num_unique_values\": 5,\n        \"samples\": [\n          \"2024-04-16 13:27:49\",\n          \"2024-04-16 03:00:06\",\n          \"2024-04-16 11:34:35\"\n        ],\n        \"semantic_type\": \"\",\n        \"description\": \"\"\n      }\n    },\n    {\n      \"column\": \"content\",\n      \"properties\": {\n        \"dtype\": \"string\",\n        \"num_unique_values\": 5,\n        \"samples\": [\n          \"Ok\",\n          \"Woy buat la buat tarik nya pakai dana ribet kali mau pakai bang nian udah ngk lengkap aset nya ribet lagi buat penarikanya pakai dana woy mau pindah aplikasi sebelah we\",\n          \"ah gk jelas pas mau halving btc malah masa pemeliharaan\"\n        ],\n        \"semantic_type\": \"\",\n        \"description\": \"\"\n      }\n    }\n  ]\n}"
            }
          },
          "metadata": {},
          "execution_count": 111
        }
      ]
    },
    {
      "cell_type": "code",
      "source": [
        "#Run This Code to Sort the Data By Date\n",
        "\n",
        "new_df = df_busu[['userName', 'score','at', 'content']]\n",
        "sorted_df = new_df.sort_values(by='at', ascending=False) #Sort by Newst, change to True if you want to sort by Oldest.\n",
        "sorted_df.head()"
      ],
      "metadata": {
        "colab": {
          "base_uri": "https://localhost:8080/",
          "height": 206
        },
        "id": "O9xqrnc4xyCy",
        "outputId": "6958ed14-22f1-4b02-e43e-80ec213eab51"
      },
      "execution_count": null,
      "outputs": [
        {
          "output_type": "execute_result",
          "data": {
            "text/plain": [
              "          userName  score                  at  \\\n",
              "0    Regar Margana      5 2024-04-16 13:48:42   \n",
              "1  Maehan Hotplate      5 2024-04-16 13:27:49   \n",
              "2            iqbal      3 2024-04-16 11:34:35   \n",
              "3         Akmal Ok      1 2024-04-16 08:54:02   \n",
              "4    Hasyrat Aqdas      1 2024-04-16 03:00:06   \n",
              "\n",
              "                                             content  \n",
              "0  Tidak tau cara masuk ganti nama N password N r...  \n",
              "1                                                 Ok  \n",
              "2  ah gk jelas pas mau halving btc malah masa pem...  \n",
              "3  Aplikasi Ga jelas, transaksi jual Reksadana me...  \n",
              "4  Woy buat la buat tarik nya pakai dana ribet ka...  "
            ],
            "text/html": [
              "\n",
              "  <div id=\"df-0a9de5ef-84b1-4758-bf76-7c0dfe8ee4c9\" class=\"colab-df-container\">\n",
              "    <div>\n",
              "<style scoped>\n",
              "    .dataframe tbody tr th:only-of-type {\n",
              "        vertical-align: middle;\n",
              "    }\n",
              "\n",
              "    .dataframe tbody tr th {\n",
              "        vertical-align: top;\n",
              "    }\n",
              "\n",
              "    .dataframe thead th {\n",
              "        text-align: right;\n",
              "    }\n",
              "</style>\n",
              "<table border=\"1\" class=\"dataframe\">\n",
              "  <thead>\n",
              "    <tr style=\"text-align: right;\">\n",
              "      <th></th>\n",
              "      <th>userName</th>\n",
              "      <th>score</th>\n",
              "      <th>at</th>\n",
              "      <th>content</th>\n",
              "    </tr>\n",
              "  </thead>\n",
              "  <tbody>\n",
              "    <tr>\n",
              "      <th>0</th>\n",
              "      <td>Regar Margana</td>\n",
              "      <td>5</td>\n",
              "      <td>2024-04-16 13:48:42</td>\n",
              "      <td>Tidak tau cara masuk ganti nama N password N r...</td>\n",
              "    </tr>\n",
              "    <tr>\n",
              "      <th>1</th>\n",
              "      <td>Maehan Hotplate</td>\n",
              "      <td>5</td>\n",
              "      <td>2024-04-16 13:27:49</td>\n",
              "      <td>Ok</td>\n",
              "    </tr>\n",
              "    <tr>\n",
              "      <th>2</th>\n",
              "      <td>iqbal</td>\n",
              "      <td>3</td>\n",
              "      <td>2024-04-16 11:34:35</td>\n",
              "      <td>ah gk jelas pas mau halving btc malah masa pem...</td>\n",
              "    </tr>\n",
              "    <tr>\n",
              "      <th>3</th>\n",
              "      <td>Akmal Ok</td>\n",
              "      <td>1</td>\n",
              "      <td>2024-04-16 08:54:02</td>\n",
              "      <td>Aplikasi Ga jelas, transaksi jual Reksadana me...</td>\n",
              "    </tr>\n",
              "    <tr>\n",
              "      <th>4</th>\n",
              "      <td>Hasyrat Aqdas</td>\n",
              "      <td>1</td>\n",
              "      <td>2024-04-16 03:00:06</td>\n",
              "      <td>Woy buat la buat tarik nya pakai dana ribet ka...</td>\n",
              "    </tr>\n",
              "  </tbody>\n",
              "</table>\n",
              "</div>\n",
              "    <div class=\"colab-df-buttons\">\n",
              "\n",
              "  <div class=\"colab-df-container\">\n",
              "    <button class=\"colab-df-convert\" onclick=\"convertToInteractive('df-0a9de5ef-84b1-4758-bf76-7c0dfe8ee4c9')\"\n",
              "            title=\"Convert this dataframe to an interactive table.\"\n",
              "            style=\"display:none;\">\n",
              "\n",
              "  <svg xmlns=\"http://www.w3.org/2000/svg\" height=\"24px\" viewBox=\"0 -960 960 960\">\n",
              "    <path d=\"M120-120v-720h720v720H120Zm60-500h600v-160H180v160Zm220 220h160v-160H400v160Zm0 220h160v-160H400v160ZM180-400h160v-160H180v160Zm440 0h160v-160H620v160ZM180-180h160v-160H180v160Zm440 0h160v-160H620v160Z\"/>\n",
              "  </svg>\n",
              "    </button>\n",
              "\n",
              "  <style>\n",
              "    .colab-df-container {\n",
              "      display:flex;\n",
              "      gap: 12px;\n",
              "    }\n",
              "\n",
              "    .colab-df-convert {\n",
              "      background-color: #E8F0FE;\n",
              "      border: none;\n",
              "      border-radius: 50%;\n",
              "      cursor: pointer;\n",
              "      display: none;\n",
              "      fill: #1967D2;\n",
              "      height: 32px;\n",
              "      padding: 0 0 0 0;\n",
              "      width: 32px;\n",
              "    }\n",
              "\n",
              "    .colab-df-convert:hover {\n",
              "      background-color: #E2EBFA;\n",
              "      box-shadow: 0px 1px 2px rgba(60, 64, 67, 0.3), 0px 1px 3px 1px rgba(60, 64, 67, 0.15);\n",
              "      fill: #174EA6;\n",
              "    }\n",
              "\n",
              "    .colab-df-buttons div {\n",
              "      margin-bottom: 4px;\n",
              "    }\n",
              "\n",
              "    [theme=dark] .colab-df-convert {\n",
              "      background-color: #3B4455;\n",
              "      fill: #D2E3FC;\n",
              "    }\n",
              "\n",
              "    [theme=dark] .colab-df-convert:hover {\n",
              "      background-color: #434B5C;\n",
              "      box-shadow: 0px 1px 3px 1px rgba(0, 0, 0, 0.15);\n",
              "      filter: drop-shadow(0px 1px 2px rgba(0, 0, 0, 0.3));\n",
              "      fill: #FFFFFF;\n",
              "    }\n",
              "  </style>\n",
              "\n",
              "    <script>\n",
              "      const buttonEl =\n",
              "        document.querySelector('#df-0a9de5ef-84b1-4758-bf76-7c0dfe8ee4c9 button.colab-df-convert');\n",
              "      buttonEl.style.display =\n",
              "        google.colab.kernel.accessAllowed ? 'block' : 'none';\n",
              "\n",
              "      async function convertToInteractive(key) {\n",
              "        const element = document.querySelector('#df-0a9de5ef-84b1-4758-bf76-7c0dfe8ee4c9');\n",
              "        const dataTable =\n",
              "          await google.colab.kernel.invokeFunction('convertToInteractive',\n",
              "                                                    [key], {});\n",
              "        if (!dataTable) return;\n",
              "\n",
              "        const docLinkHtml = 'Like what you see? Visit the ' +\n",
              "          '<a target=\"_blank\" href=https://colab.research.google.com/notebooks/data_table.ipynb>data table notebook</a>'\n",
              "          + ' to learn more about interactive tables.';\n",
              "        element.innerHTML = '';\n",
              "        dataTable['output_type'] = 'display_data';\n",
              "        await google.colab.output.renderOutput(dataTable, element);\n",
              "        const docLink = document.createElement('div');\n",
              "        docLink.innerHTML = docLinkHtml;\n",
              "        element.appendChild(docLink);\n",
              "      }\n",
              "    </script>\n",
              "  </div>\n",
              "\n",
              "\n",
              "<div id=\"df-d660f10d-7c06-45b5-aa0b-9bc12a6b3552\">\n",
              "  <button class=\"colab-df-quickchart\" onclick=\"quickchart('df-d660f10d-7c06-45b5-aa0b-9bc12a6b3552')\"\n",
              "            title=\"Suggest charts\"\n",
              "            style=\"display:none;\">\n",
              "\n",
              "<svg xmlns=\"http://www.w3.org/2000/svg\" height=\"24px\"viewBox=\"0 0 24 24\"\n",
              "     width=\"24px\">\n",
              "    <g>\n",
              "        <path d=\"M19 3H5c-1.1 0-2 .9-2 2v14c0 1.1.9 2 2 2h14c1.1 0 2-.9 2-2V5c0-1.1-.9-2-2-2zM9 17H7v-7h2v7zm4 0h-2V7h2v10zm4 0h-2v-4h2v4z\"/>\n",
              "    </g>\n",
              "</svg>\n",
              "  </button>\n",
              "\n",
              "<style>\n",
              "  .colab-df-quickchart {\n",
              "      --bg-color: #E8F0FE;\n",
              "      --fill-color: #1967D2;\n",
              "      --hover-bg-color: #E2EBFA;\n",
              "      --hover-fill-color: #174EA6;\n",
              "      --disabled-fill-color: #AAA;\n",
              "      --disabled-bg-color: #DDD;\n",
              "  }\n",
              "\n",
              "  [theme=dark] .colab-df-quickchart {\n",
              "      --bg-color: #3B4455;\n",
              "      --fill-color: #D2E3FC;\n",
              "      --hover-bg-color: #434B5C;\n",
              "      --hover-fill-color: #FFFFFF;\n",
              "      --disabled-bg-color: #3B4455;\n",
              "      --disabled-fill-color: #666;\n",
              "  }\n",
              "\n",
              "  .colab-df-quickchart {\n",
              "    background-color: var(--bg-color);\n",
              "    border: none;\n",
              "    border-radius: 50%;\n",
              "    cursor: pointer;\n",
              "    display: none;\n",
              "    fill: var(--fill-color);\n",
              "    height: 32px;\n",
              "    padding: 0;\n",
              "    width: 32px;\n",
              "  }\n",
              "\n",
              "  .colab-df-quickchart:hover {\n",
              "    background-color: var(--hover-bg-color);\n",
              "    box-shadow: 0 1px 2px rgba(60, 64, 67, 0.3), 0 1px 3px 1px rgba(60, 64, 67, 0.15);\n",
              "    fill: var(--button-hover-fill-color);\n",
              "  }\n",
              "\n",
              "  .colab-df-quickchart-complete:disabled,\n",
              "  .colab-df-quickchart-complete:disabled:hover {\n",
              "    background-color: var(--disabled-bg-color);\n",
              "    fill: var(--disabled-fill-color);\n",
              "    box-shadow: none;\n",
              "  }\n",
              "\n",
              "  .colab-df-spinner {\n",
              "    border: 2px solid var(--fill-color);\n",
              "    border-color: transparent;\n",
              "    border-bottom-color: var(--fill-color);\n",
              "    animation:\n",
              "      spin 1s steps(1) infinite;\n",
              "  }\n",
              "\n",
              "  @keyframes spin {\n",
              "    0% {\n",
              "      border-color: transparent;\n",
              "      border-bottom-color: var(--fill-color);\n",
              "      border-left-color: var(--fill-color);\n",
              "    }\n",
              "    20% {\n",
              "      border-color: transparent;\n",
              "      border-left-color: var(--fill-color);\n",
              "      border-top-color: var(--fill-color);\n",
              "    }\n",
              "    30% {\n",
              "      border-color: transparent;\n",
              "      border-left-color: var(--fill-color);\n",
              "      border-top-color: var(--fill-color);\n",
              "      border-right-color: var(--fill-color);\n",
              "    }\n",
              "    40% {\n",
              "      border-color: transparent;\n",
              "      border-right-color: var(--fill-color);\n",
              "      border-top-color: var(--fill-color);\n",
              "    }\n",
              "    60% {\n",
              "      border-color: transparent;\n",
              "      border-right-color: var(--fill-color);\n",
              "    }\n",
              "    80% {\n",
              "      border-color: transparent;\n",
              "      border-right-color: var(--fill-color);\n",
              "      border-bottom-color: var(--fill-color);\n",
              "    }\n",
              "    90% {\n",
              "      border-color: transparent;\n",
              "      border-bottom-color: var(--fill-color);\n",
              "    }\n",
              "  }\n",
              "</style>\n",
              "\n",
              "  <script>\n",
              "    async function quickchart(key) {\n",
              "      const quickchartButtonEl =\n",
              "        document.querySelector('#' + key + ' button');\n",
              "      quickchartButtonEl.disabled = true;  // To prevent multiple clicks.\n",
              "      quickchartButtonEl.classList.add('colab-df-spinner');\n",
              "      try {\n",
              "        const charts = await google.colab.kernel.invokeFunction(\n",
              "            'suggestCharts', [key], {});\n",
              "      } catch (error) {\n",
              "        console.error('Error during call to suggestCharts:', error);\n",
              "      }\n",
              "      quickchartButtonEl.classList.remove('colab-df-spinner');\n",
              "      quickchartButtonEl.classList.add('colab-df-quickchart-complete');\n",
              "    }\n",
              "    (() => {\n",
              "      let quickchartButtonEl =\n",
              "        document.querySelector('#df-d660f10d-7c06-45b5-aa0b-9bc12a6b3552 button');\n",
              "      quickchartButtonEl.style.display =\n",
              "        google.colab.kernel.accessAllowed ? 'block' : 'none';\n",
              "    })();\n",
              "  </script>\n",
              "</div>\n",
              "    </div>\n",
              "  </div>\n"
            ],
            "application/vnd.google.colaboratory.intrinsic+json": {
              "type": "dataframe",
              "variable_name": "sorted_df",
              "summary": "{\n  \"name\": \"sorted_df\",\n  \"rows\": 5174,\n  \"fields\": [\n    {\n      \"column\": \"userName\",\n      \"properties\": {\n        \"dtype\": \"string\",\n        \"num_unique_values\": 5156,\n        \"samples\": [\n          \"millky latte\",\n          \"lukimah lukimah\",\n          \"Ahmadsahrul Munawar\"\n        ],\n        \"semantic_type\": \"\",\n        \"description\": \"\"\n      }\n    },\n    {\n      \"column\": \"score\",\n      \"properties\": {\n        \"dtype\": \"number\",\n        \"std\": 1,\n        \"min\": 1,\n        \"max\": 5,\n        \"num_unique_values\": 5,\n        \"samples\": [\n          3,\n          2,\n          1\n        ],\n        \"semantic_type\": \"\",\n        \"description\": \"\"\n      }\n    },\n    {\n      \"column\": \"at\",\n      \"properties\": {\n        \"dtype\": \"date\",\n        \"min\": \"2022-08-17 00:12:03\",\n        \"max\": \"2024-04-16 13:48:42\",\n        \"num_unique_values\": 5161,\n        \"samples\": [\n          \"2023-11-22 05:32:26\",\n          \"2023-12-02 09:39:43\",\n          \"2023-01-11 04:06:56\"\n        ],\n        \"semantic_type\": \"\",\n        \"description\": \"\"\n      }\n    },\n    {\n      \"column\": \"content\",\n      \"properties\": {\n        \"dtype\": \"string\",\n        \"num_unique_values\": 4772,\n        \"samples\": [\n          \"Aplikasi jelek, udah set jual. Gak bisa ke jual, udah turunin angka jual. Udah melompat tinggi masih gak ke jual, aplikasi scam\",\n          \"easy to use simple\",\n          \"Wawww aplikasi yang bagus cocok untuk mempermudah investasi\"\n        ],\n        \"semantic_type\": \"\",\n        \"description\": \"\"\n      }\n    }\n  ]\n}"
            }
          },
          "metadata": {},
          "execution_count": 112
        }
      ]
    },
    {
      "cell_type": "code",
      "source": [
        "my_df = sorted_df[['userName', 'score','at', 'content']] #get userName, rating, date-time, and reviews only"
      ],
      "metadata": {
        "id": "N_gnzAckx1Py"
      },
      "execution_count": null,
      "outputs": []
    },
    {
      "cell_type": "code",
      "source": [
        "my_df.head()"
      ],
      "metadata": {
        "colab": {
          "base_uri": "https://localhost:8080/",
          "height": 206
        },
        "id": "i_-EMUoux3Mc",
        "outputId": "395e565f-e53d-4904-ee84-2ebf89af4886"
      },
      "execution_count": null,
      "outputs": [
        {
          "output_type": "execute_result",
          "data": {
            "text/plain": [
              "          userName  score                  at  \\\n",
              "0    Regar Margana      5 2024-04-16 13:48:42   \n",
              "1  Maehan Hotplate      5 2024-04-16 13:27:49   \n",
              "2            iqbal      3 2024-04-16 11:34:35   \n",
              "3         Akmal Ok      1 2024-04-16 08:54:02   \n",
              "4    Hasyrat Aqdas      1 2024-04-16 03:00:06   \n",
              "\n",
              "                                             content  \n",
              "0  Tidak tau cara masuk ganti nama N password N r...  \n",
              "1                                                 Ok  \n",
              "2  ah gk jelas pas mau halving btc malah masa pem...  \n",
              "3  Aplikasi Ga jelas, transaksi jual Reksadana me...  \n",
              "4  Woy buat la buat tarik nya pakai dana ribet ka...  "
            ],
            "text/html": [
              "\n",
              "  <div id=\"df-a8d18125-788b-465c-9598-a63ab7e3066a\" class=\"colab-df-container\">\n",
              "    <div>\n",
              "<style scoped>\n",
              "    .dataframe tbody tr th:only-of-type {\n",
              "        vertical-align: middle;\n",
              "    }\n",
              "\n",
              "    .dataframe tbody tr th {\n",
              "        vertical-align: top;\n",
              "    }\n",
              "\n",
              "    .dataframe thead th {\n",
              "        text-align: right;\n",
              "    }\n",
              "</style>\n",
              "<table border=\"1\" class=\"dataframe\">\n",
              "  <thead>\n",
              "    <tr style=\"text-align: right;\">\n",
              "      <th></th>\n",
              "      <th>userName</th>\n",
              "      <th>score</th>\n",
              "      <th>at</th>\n",
              "      <th>content</th>\n",
              "    </tr>\n",
              "  </thead>\n",
              "  <tbody>\n",
              "    <tr>\n",
              "      <th>0</th>\n",
              "      <td>Regar Margana</td>\n",
              "      <td>5</td>\n",
              "      <td>2024-04-16 13:48:42</td>\n",
              "      <td>Tidak tau cara masuk ganti nama N password N r...</td>\n",
              "    </tr>\n",
              "    <tr>\n",
              "      <th>1</th>\n",
              "      <td>Maehan Hotplate</td>\n",
              "      <td>5</td>\n",
              "      <td>2024-04-16 13:27:49</td>\n",
              "      <td>Ok</td>\n",
              "    </tr>\n",
              "    <tr>\n",
              "      <th>2</th>\n",
              "      <td>iqbal</td>\n",
              "      <td>3</td>\n",
              "      <td>2024-04-16 11:34:35</td>\n",
              "      <td>ah gk jelas pas mau halving btc malah masa pem...</td>\n",
              "    </tr>\n",
              "    <tr>\n",
              "      <th>3</th>\n",
              "      <td>Akmal Ok</td>\n",
              "      <td>1</td>\n",
              "      <td>2024-04-16 08:54:02</td>\n",
              "      <td>Aplikasi Ga jelas, transaksi jual Reksadana me...</td>\n",
              "    </tr>\n",
              "    <tr>\n",
              "      <th>4</th>\n",
              "      <td>Hasyrat Aqdas</td>\n",
              "      <td>1</td>\n",
              "      <td>2024-04-16 03:00:06</td>\n",
              "      <td>Woy buat la buat tarik nya pakai dana ribet ka...</td>\n",
              "    </tr>\n",
              "  </tbody>\n",
              "</table>\n",
              "</div>\n",
              "    <div class=\"colab-df-buttons\">\n",
              "\n",
              "  <div class=\"colab-df-container\">\n",
              "    <button class=\"colab-df-convert\" onclick=\"convertToInteractive('df-a8d18125-788b-465c-9598-a63ab7e3066a')\"\n",
              "            title=\"Convert this dataframe to an interactive table.\"\n",
              "            style=\"display:none;\">\n",
              "\n",
              "  <svg xmlns=\"http://www.w3.org/2000/svg\" height=\"24px\" viewBox=\"0 -960 960 960\">\n",
              "    <path d=\"M120-120v-720h720v720H120Zm60-500h600v-160H180v160Zm220 220h160v-160H400v160Zm0 220h160v-160H400v160ZM180-400h160v-160H180v160Zm440 0h160v-160H620v160ZM180-180h160v-160H180v160Zm440 0h160v-160H620v160Z\"/>\n",
              "  </svg>\n",
              "    </button>\n",
              "\n",
              "  <style>\n",
              "    .colab-df-container {\n",
              "      display:flex;\n",
              "      gap: 12px;\n",
              "    }\n",
              "\n",
              "    .colab-df-convert {\n",
              "      background-color: #E8F0FE;\n",
              "      border: none;\n",
              "      border-radius: 50%;\n",
              "      cursor: pointer;\n",
              "      display: none;\n",
              "      fill: #1967D2;\n",
              "      height: 32px;\n",
              "      padding: 0 0 0 0;\n",
              "      width: 32px;\n",
              "    }\n",
              "\n",
              "    .colab-df-convert:hover {\n",
              "      background-color: #E2EBFA;\n",
              "      box-shadow: 0px 1px 2px rgba(60, 64, 67, 0.3), 0px 1px 3px 1px rgba(60, 64, 67, 0.15);\n",
              "      fill: #174EA6;\n",
              "    }\n",
              "\n",
              "    .colab-df-buttons div {\n",
              "      margin-bottom: 4px;\n",
              "    }\n",
              "\n",
              "    [theme=dark] .colab-df-convert {\n",
              "      background-color: #3B4455;\n",
              "      fill: #D2E3FC;\n",
              "    }\n",
              "\n",
              "    [theme=dark] .colab-df-convert:hover {\n",
              "      background-color: #434B5C;\n",
              "      box-shadow: 0px 1px 3px 1px rgba(0, 0, 0, 0.15);\n",
              "      filter: drop-shadow(0px 1px 2px rgba(0, 0, 0, 0.3));\n",
              "      fill: #FFFFFF;\n",
              "    }\n",
              "  </style>\n",
              "\n",
              "    <script>\n",
              "      const buttonEl =\n",
              "        document.querySelector('#df-a8d18125-788b-465c-9598-a63ab7e3066a button.colab-df-convert');\n",
              "      buttonEl.style.display =\n",
              "        google.colab.kernel.accessAllowed ? 'block' : 'none';\n",
              "\n",
              "      async function convertToInteractive(key) {\n",
              "        const element = document.querySelector('#df-a8d18125-788b-465c-9598-a63ab7e3066a');\n",
              "        const dataTable =\n",
              "          await google.colab.kernel.invokeFunction('convertToInteractive',\n",
              "                                                    [key], {});\n",
              "        if (!dataTable) return;\n",
              "\n",
              "        const docLinkHtml = 'Like what you see? Visit the ' +\n",
              "          '<a target=\"_blank\" href=https://colab.research.google.com/notebooks/data_table.ipynb>data table notebook</a>'\n",
              "          + ' to learn more about interactive tables.';\n",
              "        element.innerHTML = '';\n",
              "        dataTable['output_type'] = 'display_data';\n",
              "        await google.colab.output.renderOutput(dataTable, element);\n",
              "        const docLink = document.createElement('div');\n",
              "        docLink.innerHTML = docLinkHtml;\n",
              "        element.appendChild(docLink);\n",
              "      }\n",
              "    </script>\n",
              "  </div>\n",
              "\n",
              "\n",
              "<div id=\"df-543a9160-ef00-46c7-b384-852b1442c679\">\n",
              "  <button class=\"colab-df-quickchart\" onclick=\"quickchart('df-543a9160-ef00-46c7-b384-852b1442c679')\"\n",
              "            title=\"Suggest charts\"\n",
              "            style=\"display:none;\">\n",
              "\n",
              "<svg xmlns=\"http://www.w3.org/2000/svg\" height=\"24px\"viewBox=\"0 0 24 24\"\n",
              "     width=\"24px\">\n",
              "    <g>\n",
              "        <path d=\"M19 3H5c-1.1 0-2 .9-2 2v14c0 1.1.9 2 2 2h14c1.1 0 2-.9 2-2V5c0-1.1-.9-2-2-2zM9 17H7v-7h2v7zm4 0h-2V7h2v10zm4 0h-2v-4h2v4z\"/>\n",
              "    </g>\n",
              "</svg>\n",
              "  </button>\n",
              "\n",
              "<style>\n",
              "  .colab-df-quickchart {\n",
              "      --bg-color: #E8F0FE;\n",
              "      --fill-color: #1967D2;\n",
              "      --hover-bg-color: #E2EBFA;\n",
              "      --hover-fill-color: #174EA6;\n",
              "      --disabled-fill-color: #AAA;\n",
              "      --disabled-bg-color: #DDD;\n",
              "  }\n",
              "\n",
              "  [theme=dark] .colab-df-quickchart {\n",
              "      --bg-color: #3B4455;\n",
              "      --fill-color: #D2E3FC;\n",
              "      --hover-bg-color: #434B5C;\n",
              "      --hover-fill-color: #FFFFFF;\n",
              "      --disabled-bg-color: #3B4455;\n",
              "      --disabled-fill-color: #666;\n",
              "  }\n",
              "\n",
              "  .colab-df-quickchart {\n",
              "    background-color: var(--bg-color);\n",
              "    border: none;\n",
              "    border-radius: 50%;\n",
              "    cursor: pointer;\n",
              "    display: none;\n",
              "    fill: var(--fill-color);\n",
              "    height: 32px;\n",
              "    padding: 0;\n",
              "    width: 32px;\n",
              "  }\n",
              "\n",
              "  .colab-df-quickchart:hover {\n",
              "    background-color: var(--hover-bg-color);\n",
              "    box-shadow: 0 1px 2px rgba(60, 64, 67, 0.3), 0 1px 3px 1px rgba(60, 64, 67, 0.15);\n",
              "    fill: var(--button-hover-fill-color);\n",
              "  }\n",
              "\n",
              "  .colab-df-quickchart-complete:disabled,\n",
              "  .colab-df-quickchart-complete:disabled:hover {\n",
              "    background-color: var(--disabled-bg-color);\n",
              "    fill: var(--disabled-fill-color);\n",
              "    box-shadow: none;\n",
              "  }\n",
              "\n",
              "  .colab-df-spinner {\n",
              "    border: 2px solid var(--fill-color);\n",
              "    border-color: transparent;\n",
              "    border-bottom-color: var(--fill-color);\n",
              "    animation:\n",
              "      spin 1s steps(1) infinite;\n",
              "  }\n",
              "\n",
              "  @keyframes spin {\n",
              "    0% {\n",
              "      border-color: transparent;\n",
              "      border-bottom-color: var(--fill-color);\n",
              "      border-left-color: var(--fill-color);\n",
              "    }\n",
              "    20% {\n",
              "      border-color: transparent;\n",
              "      border-left-color: var(--fill-color);\n",
              "      border-top-color: var(--fill-color);\n",
              "    }\n",
              "    30% {\n",
              "      border-color: transparent;\n",
              "      border-left-color: var(--fill-color);\n",
              "      border-top-color: var(--fill-color);\n",
              "      border-right-color: var(--fill-color);\n",
              "    }\n",
              "    40% {\n",
              "      border-color: transparent;\n",
              "      border-right-color: var(--fill-color);\n",
              "      border-top-color: var(--fill-color);\n",
              "    }\n",
              "    60% {\n",
              "      border-color: transparent;\n",
              "      border-right-color: var(--fill-color);\n",
              "    }\n",
              "    80% {\n",
              "      border-color: transparent;\n",
              "      border-right-color: var(--fill-color);\n",
              "      border-bottom-color: var(--fill-color);\n",
              "    }\n",
              "    90% {\n",
              "      border-color: transparent;\n",
              "      border-bottom-color: var(--fill-color);\n",
              "    }\n",
              "  }\n",
              "</style>\n",
              "\n",
              "  <script>\n",
              "    async function quickchart(key) {\n",
              "      const quickchartButtonEl =\n",
              "        document.querySelector('#' + key + ' button');\n",
              "      quickchartButtonEl.disabled = true;  // To prevent multiple clicks.\n",
              "      quickchartButtonEl.classList.add('colab-df-spinner');\n",
              "      try {\n",
              "        const charts = await google.colab.kernel.invokeFunction(\n",
              "            'suggestCharts', [key], {});\n",
              "      } catch (error) {\n",
              "        console.error('Error during call to suggestCharts:', error);\n",
              "      }\n",
              "      quickchartButtonEl.classList.remove('colab-df-spinner');\n",
              "      quickchartButtonEl.classList.add('colab-df-quickchart-complete');\n",
              "    }\n",
              "    (() => {\n",
              "      let quickchartButtonEl =\n",
              "        document.querySelector('#df-543a9160-ef00-46c7-b384-852b1442c679 button');\n",
              "      quickchartButtonEl.style.display =\n",
              "        google.colab.kernel.accessAllowed ? 'block' : 'none';\n",
              "    })();\n",
              "  </script>\n",
              "</div>\n",
              "    </div>\n",
              "  </div>\n"
            ],
            "application/vnd.google.colaboratory.intrinsic+json": {
              "type": "dataframe",
              "variable_name": "my_df",
              "summary": "{\n  \"name\": \"my_df\",\n  \"rows\": 5174,\n  \"fields\": [\n    {\n      \"column\": \"userName\",\n      \"properties\": {\n        \"dtype\": \"string\",\n        \"num_unique_values\": 5156,\n        \"samples\": [\n          \"millky latte\",\n          \"lukimah lukimah\",\n          \"Ahmadsahrul Munawar\"\n        ],\n        \"semantic_type\": \"\",\n        \"description\": \"\"\n      }\n    },\n    {\n      \"column\": \"score\",\n      \"properties\": {\n        \"dtype\": \"number\",\n        \"std\": 1,\n        \"min\": 1,\n        \"max\": 5,\n        \"num_unique_values\": 5,\n        \"samples\": [\n          3,\n          2,\n          1\n        ],\n        \"semantic_type\": \"\",\n        \"description\": \"\"\n      }\n    },\n    {\n      \"column\": \"at\",\n      \"properties\": {\n        \"dtype\": \"date\",\n        \"min\": \"2022-08-17 00:12:03\",\n        \"max\": \"2024-04-16 13:48:42\",\n        \"num_unique_values\": 5161,\n        \"samples\": [\n          \"2023-11-22 05:32:26\",\n          \"2023-12-02 09:39:43\",\n          \"2023-01-11 04:06:56\"\n        ],\n        \"semantic_type\": \"\",\n        \"description\": \"\"\n      }\n    },\n    {\n      \"column\": \"content\",\n      \"properties\": {\n        \"dtype\": \"string\",\n        \"num_unique_values\": 4772,\n        \"samples\": [\n          \"Aplikasi jelek, udah set jual. Gak bisa ke jual, udah turunin angka jual. Udah melompat tinggi masih gak ke jual, aplikasi scam\",\n          \"easy to use simple\",\n          \"Wawww aplikasi yang bagus cocok untuk mempermudah investasi\"\n        ],\n        \"semantic_type\": \"\",\n        \"description\": \"\"\n      }\n    }\n  ]\n}"
            }
          },
          "metadata": {},
          "execution_count": 114
        }
      ]
    },
    {
      "cell_type": "code",
      "source": [
        "my_df.to_csv(\"scrapped_data.csv\", index = False)  #Save the file as CSV , to download: click the folder icon on the left. the csv file should be there."
      ],
      "metadata": {
        "id": "F8px9ujbx5bX"
      },
      "execution_count": null,
      "outputs": []
    },
    {
      "cell_type": "code",
      "source": [
        "path_dataset = \"/content/AjaibKripto.csv\""
      ],
      "metadata": {
        "id": "n3aexIVJy8wE"
      },
      "execution_count": null,
      "outputs": []
    },
    {
      "cell_type": "code",
      "source": [
        "df1 = pd.read_csv(path_dataset, sep=\";\")"
      ],
      "metadata": {
        "id": "bf2cC8_jzGIl"
      },
      "execution_count": null,
      "outputs": []
    },
    {
      "cell_type": "code",
      "source": [
        "df = pd.DataFrame(df1)"
      ],
      "metadata": {
        "id": "WtA-9LOizLxP"
      },
      "execution_count": null,
      "outputs": []
    },
    {
      "cell_type": "code",
      "source": [
        "print(df)"
      ],
      "metadata": {
        "colab": {
          "base_uri": "https://localhost:8080/"
        },
        "id": "VFYpmIlVzMjV",
        "outputId": "000cde23-dc88-4293-91df-1294b2c1d0b7"
      },
      "execution_count": null,
      "outputs": [
        {
          "output_type": "stream",
          "name": "stdout",
          "text": [
            "      score                                            content  rating\n",
            "0         5  tidak tau cara masuk ganti nama n password n r...       1\n",
            "1         5                                                 ok       1\n",
            "2         3  ah gk jelas pas mau halving btc malah masa pel...       0\n",
            "3         1  aplikasi ga jelas transaksi jual reksadana leb...      -1\n",
            "4         1  woy buat la buat tarik nya pakai dana ribet ka...      -1\n",
            "...     ...                                                ...     ...\n",
            "4779      1              saran saya mending pakai aplikasi aja      -1\n",
            "4780      5   moga aplikasi ini dapat manfaat untuk kita semua       1\n",
            "4781      5  mantap dehh kembang besar karya anak bangsa ma...       1\n",
            "4782      1  beda apa dari yang ada di aplikasi utama pak s...      -1\n",
            "4783      5  jauh ini sudah sangat bagus sekali ramah untuk...       1\n",
            "\n",
            "[4784 rows x 3 columns]\n"
          ]
        }
      ]
    },
    {
      "cell_type": "code",
      "source": [
        "df.drop(['userName', 'at', 'Unnamed: 4'], axis = 1, inplace=True)"
      ],
      "metadata": {
        "id": "6124GmqUzqx2"
      },
      "execution_count": null,
      "outputs": []
    },
    {
      "cell_type": "code",
      "source": [
        "print(df)"
      ],
      "metadata": {
        "colab": {
          "base_uri": "https://localhost:8080/"
        },
        "id": "HQDQkWmxz6hS",
        "outputId": "84b9fe60-27fb-401d-b851-d5a36cb046b6"
      },
      "execution_count": null,
      "outputs": [
        {
          "output_type": "stream",
          "name": "stdout",
          "text": [
            "      score                                            content  rating\n",
            "0         5  tidak tau cara masuk ganti nama n password n r...       1\n",
            "1         5                                                 ok       1\n",
            "2         3  ah gk jelas pas mau halving btc malah masa pel...       0\n",
            "3         1  aplikasi ga jelas transaksi jual reksadana leb...      -1\n",
            "4         1  woy buat la buat tarik nya pakai dana ribet ka...      -1\n",
            "...     ...                                                ...     ...\n",
            "4779      1              saran saya mending pakai aplikasi aja      -1\n",
            "4780      5   moga aplikasi ini dapat manfaat untuk kita semua       1\n",
            "4781      5  mantap dehh kembang besar karya anak bangsa ma...       1\n",
            "4782      1  beda apa dari yang ada di aplikasi utama pak s...      -1\n",
            "4783      5  jauh ini sudah sangat bagus sekali ramah untuk...       1\n",
            "\n",
            "[4784 rows x 3 columns]\n"
          ]
        }
      ]
    },
    {
      "cell_type": "code",
      "source": [
        "df.drop_duplicates(inplace=True)"
      ],
      "metadata": {
        "id": "MXSSAtt6z-mA"
      },
      "execution_count": null,
      "outputs": []
    },
    {
      "cell_type": "code",
      "source": [
        "len(df.index)"
      ],
      "metadata": {
        "colab": {
          "base_uri": "https://localhost:8080/"
        },
        "id": "14xeFwC30G_i",
        "outputId": "b523d978-08dc-4214-8136-a051fd55d6c0"
      },
      "execution_count": null,
      "outputs": [
        {
          "output_type": "execute_result",
          "data": {
            "text/plain": [
              "4808"
            ]
          },
          "metadata": {},
          "execution_count": 150
        }
      ]
    },
    {
      "cell_type": "code",
      "source": [
        "df.isnull().sum()"
      ],
      "metadata": {
        "colab": {
          "base_uri": "https://localhost:8080/"
        },
        "id": "MM5ubElO0MLN",
        "outputId": "aa4d6b68-8cfa-426c-f9b9-598b1bf967e4"
      },
      "execution_count": null,
      "outputs": [
        {
          "output_type": "execute_result",
          "data": {
            "text/plain": [
              "score      0\n",
              "content    0\n",
              "rating     0\n",
              "dtype: int64"
            ]
          },
          "metadata": {},
          "execution_count": 8
        }
      ]
    },
    {
      "cell_type": "code",
      "source": [
        "# ------ Case Folding --------\n",
        "# gunakan fungsi Series.str.lower() pada Pandas\n",
        "df['content'] = df['content'].str.lower()\n",
        "\n",
        "\n",
        "print('Case Folding Result : \\n')\n",
        "print(df['content'])\n",
        "print('\\n\\n\\n')"
      ],
      "metadata": {
        "colab": {
          "base_uri": "https://localhost:8080/"
        },
        "id": "RiOlU7r-0PQG",
        "outputId": "64f98719-0907-488c-874c-40bac26b182b"
      },
      "execution_count": null,
      "outputs": [
        {
          "output_type": "stream",
          "name": "stdout",
          "text": [
            "Case Folding Result : \n",
            "\n",
            "0       tidak tau cara masuk ganti nama n password n r...\n",
            "1                                                      ok\n",
            "2       ah gk jelas pas mau halving btc malah masa pem...\n",
            "3       aplikasi ga jelas, transaksi jual reksadana me...\n",
            "4       woy buat la buat tarik nya pakai dana ribet ka...\n",
            "                              ...                        \n",
            "5169              saran saya mending pakai 1 aplikasi aja\n",
            "5170    semoga aplikasi ini dapat bermanfaat untuk kit...\n",
            "5171    mantap dehh berkembang besar karya anak bangsa...\n",
            "5172    bedanya apa dari yang ada di aplikasi utama pa...\n",
            "5173    sejauh ini sudah sangat bagus sekali. ramah un...\n",
            "Name: content, Length: 4808, dtype: object\n",
            "\n",
            "\n",
            "\n",
            "\n"
          ]
        }
      ]
    },
    {
      "cell_type": "code",
      "source": [
        "from nltk.tokenize import wordpunct_tokenize\n",
        "\n",
        "df['content'] = df['content'].apply(lambda x : wordpunct_tokenize(x))"
      ],
      "metadata": {
        "id": "ThWsD6ql0Xsn"
      },
      "execution_count": null,
      "outputs": []
    },
    {
      "cell_type": "code",
      "source": [
        "print('Tokenisasi Result : \\n')\n",
        "print(df['content'])\n",
        "print('\\n\\n\\n')"
      ],
      "metadata": {
        "colab": {
          "base_uri": "https://localhost:8080/"
        },
        "id": "q9-DfIvQ0az4",
        "outputId": "543e8aa4-9c8e-4fa3-a3aa-f8dc278cf15e"
      },
      "execution_count": null,
      "outputs": [
        {
          "output_type": "stream",
          "name": "stdout",
          "text": [
            "Tokenisasi Result : \n",
            "\n",
            "0       [tidak, tau, cara, masuk, ganti, nama, n, pass...\n",
            "1                                                    [ok]\n",
            "2       [ah, gk, jelas, pas, mau, halving, btc, malah,...\n",
            "3       [aplikasi, ga, jelas, ,, transaksi, jual, reks...\n",
            "4       [woy, buat, la, buat, tarik, nya, pakai, dana,...\n",
            "                              ...                        \n",
            "5169      [saran, saya, mending, pakai, 1, aplikasi, aja]\n",
            "5170    [semoga, aplikasi, ini, dapat, bermanfaat, unt...\n",
            "5171    [mantap, dehh, berkembang, besar, karya, anak,...\n",
            "5172    [bedanya, apa, dari, yang, ada, di, aplikasi, ...\n",
            "5173    [sejauh, ini, sudah, sangat, bagus, sekali, .,...\n",
            "Name: content, Length: 4808, dtype: object\n",
            "\n",
            "\n",
            "\n",
            "\n"
          ]
        }
      ]
    },
    {
      "cell_type": "code",
      "source": [
        "import re\n",
        "\n",
        "df['content'] = df['content'].apply(lambda x : re.sub(r\"https?://[^\\s]+\", r\"\", str(x)))"
      ],
      "metadata": {
        "id": "wfdMW3im0efh"
      },
      "execution_count": null,
      "outputs": []
    },
    {
      "cell_type": "code",
      "source": [
        "print('URL Removal Result : \\n')\n",
        "print(df['content'])\n",
        "print('\\n\\n\\n')"
      ],
      "metadata": {
        "colab": {
          "base_uri": "https://localhost:8080/"
        },
        "id": "SLvw7ojm0hn8",
        "outputId": "dce154d2-7645-4a05-acaf-7114ff5d2d7a"
      },
      "execution_count": null,
      "outputs": [
        {
          "output_type": "stream",
          "name": "stdout",
          "text": [
            "URL Removal Result : \n",
            "\n",
            "0       ['tidak', 'tau', 'cara', 'masuk', 'ganti', 'na...\n",
            "1                                                  ['ok']\n",
            "2       ['ah', 'gk', 'jelas', 'pas', 'mau', 'halving',...\n",
            "3       ['aplikasi', 'ga', 'jelas', ',', 'transaksi', ...\n",
            "4       ['woy', 'buat', 'la', 'buat', 'tarik', 'nya', ...\n",
            "                              ...                        \n",
            "5169    ['saran', 'saya', 'mending', 'pakai', '1', 'ap...\n",
            "5170    ['semoga', 'aplikasi', 'ini', 'dapat', 'berman...\n",
            "5171    ['mantap', 'dehh', 'berkembang', 'besar', 'kar...\n",
            "5172    ['bedanya', 'apa', 'dari', 'yang', 'ada', 'di'...\n",
            "5173    ['sejauh', 'ini', 'sudah', 'sangat', 'bagus', ...\n",
            "Name: content, Length: 4808, dtype: object\n",
            "\n",
            "\n",
            "\n",
            "\n"
          ]
        }
      ]
    },
    {
      "cell_type": "code",
      "source": [
        "from nltk.corpus import stopwords\n",
        "from nltk.tokenize import word_tokenize\n",
        "\n",
        "# Download NLTK stopwords\n",
        "import nltk\n",
        "nltk.download('stopwords')\n",
        "nltk.download('punkt')\n",
        "\n",
        "# Get the list of stopwords\n",
        "stop_words = set(stopwords.words('indonesian'))\n",
        "\n",
        "# Function to remove stop words from text\n",
        "def remove_stopwords(text):\n",
        "  tokens = word_tokenize(text.lower())\n",
        "  filtered_text = [word for word in tokens if word not in stop_words]\n",
        "  return \" \".join(filtered_text)\n",
        "\n",
        "# Apply the function to the 'text' column\n",
        "df['content'] = df['content'].apply(remove_stopwords)"
      ],
      "metadata": {
        "colab": {
          "base_uri": "https://localhost:8080/"
        },
        "id": "h2VGB7R00l-A",
        "outputId": "9510a7c6-8018-42b9-8e38-e697c23b3a07"
      },
      "execution_count": null,
      "outputs": [
        {
          "output_type": "stream",
          "name": "stderr",
          "text": [
            "[nltk_data] Downloading package stopwords to /root/nltk_data...\n",
            "[nltk_data]   Package stopwords is already up-to-date!\n",
            "[nltk_data] Downloading package punkt to /root/nltk_data...\n",
            "[nltk_data]   Package punkt is already up-to-date!\n"
          ]
        }
      ]
    },
    {
      "cell_type": "code",
      "source": [
        "print('Stopword Removal Result : \\n')\n",
        "print(df['content'])\n",
        "print('\\n\\n\\n')"
      ],
      "metadata": {
        "colab": {
          "base_uri": "https://localhost:8080/"
        },
        "id": "zUg31cBT057F",
        "outputId": "7d8b0053-c3b5-4e49-8124-157a6f4dbf65"
      },
      "execution_count": null,
      "outputs": [
        {
          "output_type": "stream",
          "name": "stdout",
          "text": [
            "Stopword Removal Result : \n",
            "\n",
            "0       [ 'tidak ' , 'tau ' , 'cara ' , 'masuk ' , 'ga...\n",
            "1                                               [ 'ok ' ]\n",
            "2       [ 'ah ' , 'gk ' , 'jelas ' , 'pas ' , 'mau ' ,...\n",
            "3       [ 'aplikasi ' , 'ga ' , 'jelas ' , ' , ' , 'tr...\n",
            "4       [ 'woy ' , 'buat ' , 'la ' , 'buat ' , 'tarik ...\n",
            "                              ...                        \n",
            "5169    [ 'saran ' , 'saya ' , 'mending ' , 'pakai ' ,...\n",
            "5170    [ 'semoga ' , 'aplikasi ' , 'ini ' , 'dapat ' ...\n",
            "5171    [ 'mantap ' , 'dehh ' , 'berkembang ' , 'besar...\n",
            "5172    [ 'bedanya ' , 'apa ' , 'dari ' , 'yang ' , 'a...\n",
            "5173    [ 'sejauh ' , 'ini ' , 'sudah ' , 'sangat ' , ...\n",
            "Name: content, Length: 4808, dtype: object\n",
            "\n",
            "\n",
            "\n",
            "\n"
          ]
        }
      ]
    },
    {
      "cell_type": "code",
      "source": [
        "import string\n",
        "\n",
        "# define a function to remove punctuation\n",
        "def remove_punctuation(text):\n",
        "    return text.translate(str.maketrans('', '', string.punctuation))\n",
        "# apply the function to the 'text' column\n",
        "df['content'] = df['content'].apply(remove_punctuation)\n",
        "# print the updated DataFrame\n",
        "print(df['content'])"
      ],
      "metadata": {
        "colab": {
          "base_uri": "https://localhost:8080/"
        },
        "id": "8qmEjUFH1HKk",
        "outputId": "87b32396-ad64-494f-c632-6c7efaf035fe"
      },
      "execution_count": null,
      "outputs": [
        {
          "output_type": "stream",
          "name": "stdout",
          "text": [
            "0        tidak   tau   cara   masuk   ganti   nama   n...\n",
            "1                                                    ok  \n",
            "2        ah   gk   jelas   pas   mau   halving   btc  ...\n",
            "3        aplikasi   ga   jelas       transaksi   jual ...\n",
            "4        woy   buat   la   buat   tarik   nya   pakai ...\n",
            "                              ...                        \n",
            "5169     saran   saya   mending   pakai    1   aplikas...\n",
            "5170     semoga   aplikasi   ini   dapat   bermanfaat ...\n",
            "5171     mantap   dehh   berkembang   besar   karya   ...\n",
            "5172     bedanya   apa   dari   yang   ada   di   apli...\n",
            "5173     sejauh   ini   sudah   sangat   bagus   sekal...\n",
            "Name: content, Length: 4808, dtype: object\n"
          ]
        }
      ]
    },
    {
      "cell_type": "code",
      "source": [
        "print('Punctuation Removal Result : \\n')\n",
        "print(df['content'])\n",
        "print('\\n\\n\\n')"
      ],
      "metadata": {
        "colab": {
          "base_uri": "https://localhost:8080/"
        },
        "id": "CwRhW7Bv2w0s",
        "outputId": "a07d6546-da97-4796-8db5-15563547823f"
      },
      "execution_count": null,
      "outputs": [
        {
          "output_type": "stream",
          "name": "stdout",
          "text": [
            "Punctuation Removal Result : \n",
            "\n",
            "0        tidak   tau   cara   masuk   ganti   nama   n...\n",
            "1                                                    ok  \n",
            "2        ah   gk   jelas   pas   mau   halving   btc  ...\n",
            "3        aplikasi   ga   jelas       transaksi   jual ...\n",
            "4        woy   buat   la   buat   tarik   nya   pakai ...\n",
            "                              ...                        \n",
            "5169     saran   saya   mending   pakai    1   aplikas...\n",
            "5170     semoga   aplikasi   ini   dapat   bermanfaat ...\n",
            "5171     mantap   dehh   berkembang   besar   karya   ...\n",
            "5172     bedanya   apa   dari   yang   ada   di   apli...\n",
            "5173     sejauh   ini   sudah   sangat   bagus   sekal...\n",
            "Name: content, Length: 4808, dtype: object\n",
            "\n",
            "\n",
            "\n",
            "\n"
          ]
        }
      ]
    },
    {
      "cell_type": "code",
      "source": [
        "import re\n",
        "\n",
        "df['content'] = df['content'].str.replace('\\d+', '')\n",
        "df['content'] = df['content'].str.replace('\\d+$', '')"
      ],
      "metadata": {
        "id": "4kHOFVeR20vv"
      },
      "execution_count": null,
      "outputs": []
    },
    {
      "cell_type": "code",
      "source": [
        "import pandas as pd\n",
        "# Create a translation table\n",
        "trans = str.maketrans('', '', '0123456789')\n",
        "# Remove numeric characters\n",
        "df['content'] = df['content'].str.translate(trans)"
      ],
      "metadata": {
        "id": "uOGiyfxR24WJ"
      },
      "execution_count": null,
      "outputs": []
    },
    {
      "cell_type": "code",
      "source": [
        "print('Number Removal Result : \\n')\n",
        "print(df['content'])\n",
        "print('\\n\\n\\n')"
      ],
      "metadata": {
        "colab": {
          "base_uri": "https://localhost:8080/"
        },
        "id": "mbJIYTr-27Zh",
        "outputId": "aad3c814-48e2-4ac2-96fb-abfbc2c92991"
      },
      "execution_count": null,
      "outputs": [
        {
          "output_type": "stream",
          "name": "stdout",
          "text": [
            "Number Removal Result : \n",
            "\n",
            "0        tidak   tau   cara   masuk   ganti   nama   n...\n",
            "1                                                    ok  \n",
            "2        ah   gk   jelas   pas   mau   halving   btc  ...\n",
            "3        aplikasi   ga   jelas       transaksi   jual ...\n",
            "4        woy   buat   la   buat   tarik   nya   pakai ...\n",
            "                              ...                        \n",
            "5169     saran   saya   mending   pakai       aplikasi...\n",
            "5170     semoga   aplikasi   ini   dapat   bermanfaat ...\n",
            "5171     mantap   dehh   berkembang   besar   karya   ...\n",
            "5172     bedanya   apa   dari   yang   ada   di   apli...\n",
            "5173     sejauh   ini   sudah   sangat   bagus   sekal...\n",
            "Name: content, Length: 4808, dtype: object\n",
            "\n",
            "\n",
            "\n",
            "\n"
          ]
        }
      ]
    },
    {
      "cell_type": "code",
      "source": [
        "pip install sastrawi"
      ],
      "metadata": {
        "colab": {
          "base_uri": "https://localhost:8080/"
        },
        "id": "TJefmg4I2_yY",
        "outputId": "ea02a9d1-2259-4f67-a8ed-4cba3e8256ba"
      },
      "execution_count": null,
      "outputs": [
        {
          "output_type": "stream",
          "name": "stdout",
          "text": [
            "Requirement already satisfied: sastrawi in /usr/local/lib/python3.10/dist-packages (1.0.1)\n"
          ]
        }
      ]
    },
    {
      "cell_type": "code",
      "source": [
        "pip install -U pandas"
      ],
      "metadata": {
        "colab": {
          "base_uri": "https://localhost:8080/"
        },
        "id": "LMIvHjbo3Cqf",
        "outputId": "4dd3bb3f-0d8b-49e5-f687-e322901b8f63"
      },
      "execution_count": null,
      "outputs": [
        {
          "output_type": "stream",
          "name": "stdout",
          "text": [
            "Requirement already satisfied: pandas in /usr/local/lib/python3.10/dist-packages (2.2.2)\n",
            "Requirement already satisfied: numpy>=1.22.4 in /usr/local/lib/python3.10/dist-packages (from pandas) (1.25.2)\n",
            "Requirement already satisfied: python-dateutil>=2.8.2 in /usr/local/lib/python3.10/dist-packages (from pandas) (2.8.2)\n",
            "Requirement already satisfied: pytz>=2020.1 in /usr/local/lib/python3.10/dist-packages (from pandas) (2023.4)\n",
            "Requirement already satisfied: tzdata>=2022.7 in /usr/local/lib/python3.10/dist-packages (from pandas) (2024.1)\n",
            "Requirement already satisfied: six>=1.5 in /usr/local/lib/python3.10/dist-packages (from python-dateutil>=2.8.2->pandas) (1.16.0)\n"
          ]
        }
      ]
    },
    {
      "cell_type": "code",
      "source": [
        "pip install swifter"
      ],
      "metadata": {
        "colab": {
          "base_uri": "https://localhost:8080/"
        },
        "id": "vTccSqe_3Esh",
        "outputId": "2675069f-fa5d-46ec-b93e-157cf1e98f13"
      },
      "execution_count": null,
      "outputs": [
        {
          "output_type": "stream",
          "name": "stdout",
          "text": [
            "Collecting swifter\n",
            "  Downloading swifter-1.4.0.tar.gz (1.2 MB)\n",
            "\u001b[2K     \u001b[90m━━━━━━━━━━━━━━━━━━━━━━━━━━━━━━━━━━━━━━━━\u001b[0m \u001b[32m1.2/1.2 MB\u001b[0m \u001b[31m6.7 MB/s\u001b[0m eta \u001b[36m0:00:00\u001b[0m\n",
            "\u001b[?25h  Preparing metadata (setup.py) ... \u001b[?25l\u001b[?25hdone\n",
            "Requirement already satisfied: pandas>=1.0.0 in /usr/local/lib/python3.10/dist-packages (from swifter) (2.2.2)\n",
            "Requirement already satisfied: psutil>=5.6.6 in /usr/local/lib/python3.10/dist-packages (from swifter) (5.9.5)\n",
            "Requirement already satisfied: dask[dataframe]>=2.10.0 in /usr/local/lib/python3.10/dist-packages (from swifter) (2023.8.1)\n",
            "Requirement already satisfied: tqdm>=4.33.0 in /usr/local/lib/python3.10/dist-packages (from swifter) (4.66.2)\n",
            "Requirement already satisfied: click>=8.0 in /usr/local/lib/python3.10/dist-packages (from dask[dataframe]>=2.10.0->swifter) (8.1.7)\n",
            "Requirement already satisfied: cloudpickle>=1.5.0 in /usr/local/lib/python3.10/dist-packages (from dask[dataframe]>=2.10.0->swifter) (2.2.1)\n",
            "Requirement already satisfied: fsspec>=2021.09.0 in /usr/local/lib/python3.10/dist-packages (from dask[dataframe]>=2.10.0->swifter) (2023.6.0)\n",
            "Requirement already satisfied: packaging>=20.0 in /usr/local/lib/python3.10/dist-packages (from dask[dataframe]>=2.10.0->swifter) (24.0)\n",
            "Requirement already satisfied: partd>=1.2.0 in /usr/local/lib/python3.10/dist-packages (from dask[dataframe]>=2.10.0->swifter) (1.4.1)\n",
            "Requirement already satisfied: pyyaml>=5.3.1 in /usr/local/lib/python3.10/dist-packages (from dask[dataframe]>=2.10.0->swifter) (6.0.1)\n",
            "Requirement already satisfied: toolz>=0.10.0 in /usr/local/lib/python3.10/dist-packages (from dask[dataframe]>=2.10.0->swifter) (0.12.1)\n",
            "Requirement already satisfied: importlib-metadata>=4.13.0 in /usr/local/lib/python3.10/dist-packages (from dask[dataframe]>=2.10.0->swifter) (7.1.0)\n",
            "Requirement already satisfied: numpy>=1.22.4 in /usr/local/lib/python3.10/dist-packages (from pandas>=1.0.0->swifter) (1.25.2)\n",
            "Requirement already satisfied: python-dateutil>=2.8.2 in /usr/local/lib/python3.10/dist-packages (from pandas>=1.0.0->swifter) (2.8.2)\n",
            "Requirement already satisfied: pytz>=2020.1 in /usr/local/lib/python3.10/dist-packages (from pandas>=1.0.0->swifter) (2023.4)\n",
            "Requirement already satisfied: tzdata>=2022.7 in /usr/local/lib/python3.10/dist-packages (from pandas>=1.0.0->swifter) (2024.1)\n",
            "Requirement already satisfied: zipp>=0.5 in /usr/local/lib/python3.10/dist-packages (from importlib-metadata>=4.13.0->dask[dataframe]>=2.10.0->swifter) (3.18.1)\n",
            "Requirement already satisfied: locket in /usr/local/lib/python3.10/dist-packages (from partd>=1.2.0->dask[dataframe]>=2.10.0->swifter) (1.0.0)\n",
            "Requirement already satisfied: six>=1.5 in /usr/local/lib/python3.10/dist-packages (from python-dateutil>=2.8.2->pandas>=1.0.0->swifter) (1.16.0)\n",
            "Building wheels for collected packages: swifter\n",
            "  Building wheel for swifter (setup.py) ... \u001b[?25l\u001b[?25hdone\n",
            "  Created wheel for swifter: filename=swifter-1.4.0-py3-none-any.whl size=16507 sha256=0841da5dd38736dc18e3314354d79358b3ae38a5e662ea1533f40deb187c7c16\n",
            "  Stored in directory: /root/.cache/pip/wheels/e4/cf/51/0904952972ee2c7aa3709437065278dc534ec1b8d2ad41b443\n",
            "Successfully built swifter\n",
            "Installing collected packages: swifter\n",
            "Successfully installed swifter-1.4.0\n"
          ]
        }
      ]
    },
    {
      "cell_type": "code",
      "source": [
        "import pandas as pd\n",
        "from Sastrawi.Stemmer.StemmerFactory import StemmerFactory\n",
        "\n",
        "# Fungsi untuk melakukan stemming pada teks Bahasa Indonesia\n",
        "def stem_text_indonesian(text):\n",
        "    factory = StemmerFactory()\n",
        "    stemmer = factory.create_stemmer()\n",
        "    return stemmer.stem(text)\n",
        "\n",
        "# Terapkan fungsi stemming pada kolom teks\n",
        "df['content'] = df['content'].apply(stem_text_indonesian)\n",
        "\n",
        "# Tampilkan dataframe hasil stemming\n",
        "print(df['content'])"
      ],
      "metadata": {
        "colab": {
          "base_uri": "https://localhost:8080/"
        },
        "id": "CAXd01Jl3Usu",
        "outputId": "74fffb20-3bfd-4755-ffb7-255071bcec7a"
      },
      "execution_count": null,
      "outputs": [
        {
          "output_type": "stream",
          "name": "stdout",
          "text": [
            "0       tidak tau cara masuk ganti nama n password n r...\n",
            "1                                                      ok\n",
            "2       ah gk jelas pas mau halving btc malah masa pel...\n",
            "3       aplikasi ga jelas transaksi jual reksadana leb...\n",
            "4       woy buat la buat tarik nya pakai dana ribet ka...\n",
            "                              ...                        \n",
            "5169                saran saya mending pakai aplikasi aja\n",
            "5170     moga aplikasi ini dapat manfaat untuk kita semua\n",
            "5171    mantap dehh kembang besar karya anak bangsa ma...\n",
            "5172    beda apa dari yang ada di aplikasi utama pak s...\n",
            "5173    jauh ini sudah sangat bagus sekali ramah untuk...\n",
            "Name: content, Length: 4808, dtype: object\n"
          ]
        }
      ]
    },
    {
      "cell_type": "code",
      "source": [
        "print('Stemming Result : \\n')\n",
        "print(df)\n",
        "print('\\n\\n\\n')"
      ],
      "metadata": {
        "colab": {
          "base_uri": "https://localhost:8080/"
        },
        "id": "KpKoCXUi3b9c",
        "outputId": "b07bbc91-61c3-4975-951b-04412e18456c"
      },
      "execution_count": null,
      "outputs": [
        {
          "output_type": "stream",
          "name": "stdout",
          "text": [
            "Stemming Result : \n",
            "\n",
            "     score                                            content\n",
            "0        5  tidak tau cara masuk ganti nama n password n r...\n",
            "1        5                                                 ok\n",
            "2        3  ah gk jelas pas mau halving btc malah masa pel...\n",
            "3        1  aplikasi ga jelas transaksi jual reksadana leb...\n",
            "4        1  woy buat la buat tarik nya pakai dana ribet ka...\n",
            "...    ...                                                ...\n",
            "5169     1              saran saya mending pakai aplikasi aja\n",
            "5170     5   moga aplikasi ini dapat manfaat untuk kita semua\n",
            "5171     5  mantap dehh kembang besar karya anak bangsa ma...\n",
            "5172     1  beda apa dari yang ada di aplikasi utama pak s...\n",
            "5173     5  jauh ini sudah sangat bagus sekali ramah untuk...\n",
            "\n",
            "[4808 rows x 2 columns]\n",
            "\n",
            "\n",
            "\n",
            "\n"
          ]
        }
      ]
    },
    {
      "cell_type": "code",
      "source": [
        "df.to_csv(\"scrapped_data1.csv\", index = False)  #Save the file as CSV , to download: click the folder icon on the left. the csv file should be there."
      ],
      "metadata": {
        "id": "IVGESk9ZDu66"
      },
      "execution_count": null,
      "outputs": []
    },
    {
      "cell_type": "code",
      "source": [
        "path_dataset = \"/content/AjaibKripto.csv\""
      ],
      "metadata": {
        "id": "wbY5pOxpuHti"
      },
      "execution_count": null,
      "outputs": []
    },
    {
      "cell_type": "code",
      "source": [
        "df1 = pd.read_csv(path_dataset, sep=\";\")"
      ],
      "metadata": {
        "id": "I2fNQrB9uRip"
      },
      "execution_count": null,
      "outputs": []
    },
    {
      "cell_type": "code",
      "source": [
        "df = pd.DataFrame(df1)"
      ],
      "metadata": {
        "id": "T5KDotW6uSWn"
      },
      "execution_count": null,
      "outputs": []
    },
    {
      "cell_type": "code",
      "source": [
        "print(df)"
      ],
      "metadata": {
        "id": "4EDFQpXCuSoR"
      },
      "execution_count": null,
      "outputs": []
    },
    {
      "cell_type": "code",
      "source": [
        "from sklearn.model_selection import train_test_split\n",
        "X = df.content\n",
        "y = df.rating\n",
        "\n",
        "x_train, x_test, y_train, y_test = train_test_split(X, y, test_size = 0.1, random_state = 0)\n"
      ],
      "metadata": {
        "id": "PtY7PiBaM31T"
      },
      "execution_count": null,
      "outputs": []
    },
    {
      "cell_type": "code",
      "source": [
        "from sklearn.feature_extraction.text import TfidfVectorizer\n",
        "\n",
        "vectorizer = TfidfVectorizer()\n",
        "vectorizer_train_model = vectorizer.fit_transform(x_train).toarray()"
      ],
      "metadata": {
        "id": "cYaV0k05Ook6"
      },
      "execution_count": null,
      "outputs": []
    },
    {
      "cell_type": "code",
      "source": [
        "import time\n",
        "\n",
        "from sklearn.naive_bayes import GaussianNB\n",
        "\n",
        "text_classifier_nb = GaussianNB()\n",
        "t0_nb = time.time()\n",
        "text_classifier_nb.fit(vectorizer_train_model, y_train)\n",
        "t1_nb = time.time()"
      ],
      "metadata": {
        "id": "3ebHO_clxvLa"
      },
      "execution_count": null,
      "outputs": []
    },
    {
      "cell_type": "code",
      "source": [
        "predictions_nb = text_classifier_nb.predict(vectorizer_train_model)\n",
        "t2_nb = time.time()\n",
        "time_linear_train_nb = t1_nb-t0_nb\n",
        "time_linear_predict_nb = t2_nb-t1_nb\n",
        "\n",
        "# results\n",
        "print(\"NB Training time: %fs; Prediction time: %fs\" % (time_linear_train_nb, time_linear_predict_nb))"
      ],
      "metadata": {
        "colab": {
          "base_uri": "https://localhost:8080/"
        },
        "id": "7oWii3fZzkhR",
        "outputId": "f36a68fb-508d-4089-9e3b-9971ea561f11"
      },
      "execution_count": null,
      "outputs": [
        {
          "output_type": "stream",
          "name": "stdout",
          "text": [
            "NB Training time: 0.890564s; Prediction time: 310.758067s\n"
          ]
        }
      ]
    },
    {
      "cell_type": "code",
      "source": [
        "from sklearn.naive_bayes import MultinomialNB\n",
        "#pembentukan model Naive Bayes\n",
        "clf=MultinomialNB()\n",
        "clf.fit(vectorizer_train_model,y_train)"
      ],
      "metadata": {
        "colab": {
          "base_uri": "https://localhost:8080/",
          "height": 74
        },
        "id": "ezOo88oJ0wVu",
        "outputId": "848c728f-1493-4b72-db4e-59f991d67373"
      },
      "execution_count": null,
      "outputs": [
        {
          "output_type": "execute_result",
          "data": {
            "text/plain": [
              "MultinomialNB()"
            ],
            "text/html": [
              "<style>#sk-container-id-1 {color: black;background-color: white;}#sk-container-id-1 pre{padding: 0;}#sk-container-id-1 div.sk-toggleable {background-color: white;}#sk-container-id-1 label.sk-toggleable__label {cursor: pointer;display: block;width: 100%;margin-bottom: 0;padding: 0.3em;box-sizing: border-box;text-align: center;}#sk-container-id-1 label.sk-toggleable__label-arrow:before {content: \"▸\";float: left;margin-right: 0.25em;color: #696969;}#sk-container-id-1 label.sk-toggleable__label-arrow:hover:before {color: black;}#sk-container-id-1 div.sk-estimator:hover label.sk-toggleable__label-arrow:before {color: black;}#sk-container-id-1 div.sk-toggleable__content {max-height: 0;max-width: 0;overflow: hidden;text-align: left;background-color: #f0f8ff;}#sk-container-id-1 div.sk-toggleable__content pre {margin: 0.2em;color: black;border-radius: 0.25em;background-color: #f0f8ff;}#sk-container-id-1 input.sk-toggleable__control:checked~div.sk-toggleable__content {max-height: 200px;max-width: 100%;overflow: auto;}#sk-container-id-1 input.sk-toggleable__control:checked~label.sk-toggleable__label-arrow:before {content: \"▾\";}#sk-container-id-1 div.sk-estimator input.sk-toggleable__control:checked~label.sk-toggleable__label {background-color: #d4ebff;}#sk-container-id-1 div.sk-label input.sk-toggleable__control:checked~label.sk-toggleable__label {background-color: #d4ebff;}#sk-container-id-1 input.sk-hidden--visually {border: 0;clip: rect(1px 1px 1px 1px);clip: rect(1px, 1px, 1px, 1px);height: 1px;margin: -1px;overflow: hidden;padding: 0;position: absolute;width: 1px;}#sk-container-id-1 div.sk-estimator {font-family: monospace;background-color: #f0f8ff;border: 1px dotted black;border-radius: 0.25em;box-sizing: border-box;margin-bottom: 0.5em;}#sk-container-id-1 div.sk-estimator:hover {background-color: #d4ebff;}#sk-container-id-1 div.sk-parallel-item::after {content: \"\";width: 100%;border-bottom: 1px solid gray;flex-grow: 1;}#sk-container-id-1 div.sk-label:hover label.sk-toggleable__label {background-color: #d4ebff;}#sk-container-id-1 div.sk-serial::before {content: \"\";position: absolute;border-left: 1px solid gray;box-sizing: border-box;top: 0;bottom: 0;left: 50%;z-index: 0;}#sk-container-id-1 div.sk-serial {display: flex;flex-direction: column;align-items: center;background-color: white;padding-right: 0.2em;padding-left: 0.2em;position: relative;}#sk-container-id-1 div.sk-item {position: relative;z-index: 1;}#sk-container-id-1 div.sk-parallel {display: flex;align-items: stretch;justify-content: center;background-color: white;position: relative;}#sk-container-id-1 div.sk-item::before, #sk-container-id-1 div.sk-parallel-item::before {content: \"\";position: absolute;border-left: 1px solid gray;box-sizing: border-box;top: 0;bottom: 0;left: 50%;z-index: -1;}#sk-container-id-1 div.sk-parallel-item {display: flex;flex-direction: column;z-index: 1;position: relative;background-color: white;}#sk-container-id-1 div.sk-parallel-item:first-child::after {align-self: flex-end;width: 50%;}#sk-container-id-1 div.sk-parallel-item:last-child::after {align-self: flex-start;width: 50%;}#sk-container-id-1 div.sk-parallel-item:only-child::after {width: 0;}#sk-container-id-1 div.sk-dashed-wrapped {border: 1px dashed gray;margin: 0 0.4em 0.5em 0.4em;box-sizing: border-box;padding-bottom: 0.4em;background-color: white;}#sk-container-id-1 div.sk-label label {font-family: monospace;font-weight: bold;display: inline-block;line-height: 1.2em;}#sk-container-id-1 div.sk-label-container {text-align: center;}#sk-container-id-1 div.sk-container {/* jupyter's `normalize.less` sets `[hidden] { display: none; }` but bootstrap.min.css set `[hidden] { display: none !important; }` so we also need the `!important` here to be able to override the default hidden behavior on the sphinx rendered scikit-learn.org. See: https://github.com/scikit-learn/scikit-learn/issues/21755 */display: inline-block !important;position: relative;}#sk-container-id-1 div.sk-text-repr-fallback {display: none;}</style><div id=\"sk-container-id-1\" class=\"sk-top-container\"><div class=\"sk-text-repr-fallback\"><pre>MultinomialNB()</pre><b>In a Jupyter environment, please rerun this cell to show the HTML representation or trust the notebook. <br />On GitHub, the HTML representation is unable to render, please try loading this page with nbviewer.org.</b></div><div class=\"sk-container\" hidden><div class=\"sk-item\"><div class=\"sk-estimator sk-toggleable\"><input class=\"sk-toggleable__control sk-hidden--visually\" id=\"sk-estimator-id-1\" type=\"checkbox\" checked><label for=\"sk-estimator-id-1\" class=\"sk-toggleable__label sk-toggleable__label-arrow\">MultinomialNB</label><div class=\"sk-toggleable__content\"><pre>MultinomialNB()</pre></div></div></div></div></div>"
            ]
          },
          "metadata": {},
          "execution_count": 21
        }
      ]
    },
    {
      "cell_type": "code",
      "source": [
        "#term frequency(pebobotan kata) data uji\n",
        "vec_uji=vectorizer.transform(x_test)\n",
        "vec_uji"
      ],
      "metadata": {
        "colab": {
          "base_uri": "https://localhost:8080/"
        },
        "id": "bzkPUuwc2cLb",
        "outputId": "ec06dc73-1010-4f90-8643-56f5e64f3b42"
      },
      "execution_count": null,
      "outputs": [
        {
          "output_type": "execute_result",
          "data": {
            "text/plain": [
              "<479x3910 sparse matrix of type '<class 'numpy.float64'>'\n",
              "\twith 5502 stored elements in Compressed Sparse Row format>"
            ]
          },
          "metadata": {},
          "execution_count": 23
        }
      ]
    },
    {
      "cell_type": "code",
      "source": [
        "#prediksi data uji\n",
        "predicted=clf.predict(vec_uji)"
      ],
      "metadata": {
        "id": "E0dgN6BQ3EGx"
      },
      "execution_count": null,
      "outputs": []
    }
  ]
}